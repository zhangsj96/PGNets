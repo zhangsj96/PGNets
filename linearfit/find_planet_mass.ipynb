{
 "cells": [
  {
   "cell_type": "code",
   "execution_count": 1,
   "metadata": {},
   "outputs": [],
   "source": [
    "%matplotlib inline\n",
    "import numpy as np\n",
    "import matplotlib.pyplot as plt\n",
    "from analysistools import *"
   ]
  },
  {
   "cell_type": "markdown",
   "metadata": {},
   "source": [
    "Mp/Mstar can be calculated using\n",
    "1. gap width (rout-rin)/rout\n",
    "2. the Stokes number index (Table 1 in Zhang et al.)\n",
    "3. Mstar if we want to get Mp instead of Mp/Mstar\n",
    "4. disk h/r at the planet's radius\n",
    "5. disk alpha viscosity\n",
    "\n",
    "The Stokes number is constrained by\n",
    "1. disk h/r at the planet's radius\n",
    "2. dust surface density intengrated from 1.1 to 2.0 $r_p$\n",
    "3. maximum dust size a_{max}\n",
    "4. the gas surface density when $Q$=1"
   ]
  },
  {
   "cell_type": "code",
   "execution_count": 2,
   "metadata": {},
   "outputs": [
    {
     "name": "stdout",
     "output_type": "stream",
     "text": [
      "amax=100um\n",
      "St idx = 6\n",
      "q = 2.4e+00 Mj/M*\n",
      "q = 7.7e+02 Me/M*\n",
      "Mp = 2.0e+00 Mj\n",
      "amax=1000um\n",
      "St idx = 4\n",
      "q = 2.0e+00 Mj/M*\n",
      "q = 6.2e+02 Me/M*\n",
      "Mp = 1.6e+00 Mj\n",
      "amax=10000um\n",
      "St idx = 2\n",
      "q = 9.0e-01 Mj/M*\n",
      "q = 2.9e+02 Me/M*\n",
      "Mp = 7.5e-01 Mj\n"
     ]
    }
   ],
   "source": [
    "# AS 209 D9\n",
    "hr = 0.04\n",
    "Mstar = 0.83  # Msun\n",
    "Delta = 0.42   # (rout-rin)/rout\n",
    "sigmad = 1.23\n",
    "sigmagGI = 1278.4\n",
    "alpha = 1e-3\n",
    "\n",
    "for amax in [100, 1000, 10000]:\n",
    "\n",
    "    idxSt = get_St0(hr, sigmad, amax, sigmagGI) #St\n",
    "    print (f\"amax={amax}um\")\n",
    "    print (f\"St idx = {idxSt}\")\n",
    "    Mp = get_Mp(Delta, idxSt, Mstar, hr, alpha)"
   ]
  },
  {
   "cell_type": "code",
   "execution_count": 3,
   "metadata": {},
   "outputs": [
    {
     "name": "stdout",
     "output_type": "stream",
     "text": [
      "The gas density is larger than that triggers GI. Use the latter.\n",
      "amax=100um\n",
      "St idx = 4\n",
      "q = 7.8e-01 Mj/M*\n",
      "q = 2.5e+02 Me/M*\n",
      "Mp = 6.5e-01 Mj\n",
      "amax=1000um\n",
      "St idx = 2\n",
      "q = 4.4e-01 Mj/M*\n",
      "q = 1.4e+02 Me/M*\n",
      "Mp = 3.7e-01 Mj\n",
      "amax=10000um\n",
      "St idx = -1\n",
      "the Stokes number is out of range.\n"
     ]
    }
   ],
   "source": [
    "# AS 209 D99\n",
    "hr = 0.08\n",
    "Mstar = 0.83  # Msun\n",
    "Delta = 0.31   # (rout-rin)/rout\n",
    "sigmad = 0.17\n",
    "sigmagGI = 19.2\n",
    "alpha = 1e-3\n",
    "\n",
    "for amax in [100, 1000, 10000]:\n",
    "\n",
    "    idxSt = get_St0(hr, sigmad, amax, sigmagGI) #St\n",
    "    print (f\"amax={amax}um\")\n",
    "    print (f\"St idx = {idxSt}\")\n",
    "    Mp = get_Mp(Delta, idxSt, Mstar, hr, alpha)"
   ]
  },
  {
   "cell_type": "code",
   "execution_count": 4,
   "metadata": {},
   "outputs": [
    {
     "name": "stdout",
     "output_type": "stream",
     "text": [
      "The gas density is larger than that triggers GI. Use the latter.\n",
      "amax=100um\n",
      "St idx = 5\n",
      "q = 8.9e-01 Mj/M*\n",
      "q = 2.8e+02 Me/M*\n",
      "Mp = 6.9e-01 Mj\n",
      "amax=1000um\n",
      "St idx = 3\n",
      "q = 5.0e-01 Mj/M*\n",
      "q = 1.6e+02 Me/M*\n",
      "Mp = 3.9e-01 Mj\n",
      "amax=10000um\n",
      "St idx = 0\n",
      "the fitting at such a high St has a large scattering.\n",
      "q = 1.9e-06 Mj/M*\n",
      "q = 6.2e-04 Me/M*\n",
      "Mp = 1.5e-06 Mj\n"
     ]
    }
   ],
   "source": [
    "# Elias 24\n",
    "hr = 0.08\n",
    "Mstar = 0.78  # Msun\n",
    "Delta = 0.32  # (rout-rin)/rout\n",
    "sigmad = 0.52\n",
    "sigmagGI = 58.6\n",
    "alpha = 1e-3\n",
    "\n",
    "for amax in [100, 1000, 10000]:\n",
    "\n",
    "    idxSt = get_St0(hr, sigmad, amax, sigmagGI) #St\n",
    "    print (f\"amax={amax}um\")\n",
    "    print (f\"St idx = {idxSt}\")\n",
    "    Mp = get_Mp(Delta, idxSt, Mstar, hr, alpha)"
   ]
  }
 ],
 "metadata": {
  "kernelspec": {
   "display_name": "Python 3",
   "language": "python",
   "name": "python3"
  },
  "language_info": {
   "codemirror_mode": {
    "name": "ipython",
    "version": 3
   },
   "file_extension": ".py",
   "mimetype": "text/x-python",
   "name": "python",
   "nbconvert_exporter": "python",
   "pygments_lexer": "ipython3",
   "version": "3.7.10"
  }
 },
 "nbformat": 4,
 "nbformat_minor": 4
}
