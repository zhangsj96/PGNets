{
 "cells": [
  {
   "cell_type": "code",
   "execution_count": 1,
   "id": "automated-creek",
   "metadata": {},
   "outputs": [],
   "source": [
    "import numpy as np\n",
    "import matplotlib.pyplot as plt\n",
    "from analysistools import *"
   ]
  },
  {
   "cell_type": "code",
   "execution_count": 2,
   "id": "meaning-digest",
   "metadata": {},
   "outputs": [],
   "source": [
    "# Elias 24"
   ]
  },
  {
   "cell_type": "code",
   "execution_count": 3,
   "id": "republican-recording",
   "metadata": {},
   "outputs": [],
   "source": [
    "# calculate hr\n",
    "params_dict = np.load(\"./paramsnubeamL.npy\", allow_pickle=True)[()]\n",
    "diskname2 = 'Elias_24'\n",
    "Lstar = 10**params_dict['logL'][diskname2]\n",
    "Mstar = 10** params_dict['logM'][diskname2]# Msun\n",
    "rgap = 57\n",
    "\n",
    "hr = calculate_hr(rgap, Lstar, Mstar)"
   ]
  },
  {
   "cell_type": "code",
   "execution_count": 4,
   "id": "colonial-maria",
   "metadata": {},
   "outputs": [],
   "source": [
    "# calculate sigmagGI\n",
    "sigmagGI = calculate_sigmagGI(rgap, Lstar, Mstar, phi=0.02)"
   ]
  },
  {
   "cell_type": "code",
   "execution_count": 5,
   "id": "painted-surgery",
   "metadata": {},
   "outputs": [],
   "source": [
    "# calculate sigmad\n",
    "diskname = \"Elias24\"\n",
    "fileaddress = f\"https://almascience.eso.org/almadata/lp/DSHARP/profiles/{diskname}.profile.txt\"\n",
    "radialprofile = np.genfromtxt(fileaddress).T\n",
    "\n",
    "kappa = 0.43  # [cm^2/g] DSHARP absorption opacity amax=0.1mm\n",
    "rgap = 57     # gap position in au\n",
    "phi       = 0.02\n",
    "diskname2 = 'Elias_24'\n",
    "nu =        params_dict['nu'][diskname2]  * 1e9\n",
    "theta_maj = params_dict['theta_maj'][diskname2] * 1e-3\n",
    "theta_min = params_dict['theta_min'][diskname2] * 1e-3\n",
    "Lstar_Lsun= 10**params_dict['logL'][diskname2]\n",
    "\n",
    "params = [Lstar_Lsun, phi, theta_maj, theta_min, nu]\n",
    "# calculate optical depth profile\n",
    "tau = tau_r(radialprofile[0], radialprofile[2], params)\n",
    "# calculate dust surface density\n",
    "sigma_d = tau/kappa\n",
    "# calculate average dust density\n",
    "sigmad_ave = sigmadgap(radialprofile[0], sigma_d, rgap)"
   ]
  },
  {
   "cell_type": "code",
   "execution_count": 6,
   "id": "forward-plastic",
   "metadata": {},
   "outputs": [],
   "source": [
    "# measure gap width\n",
    "gaprad = 56.8\n",
    "ringrad = 76.7\n",
    "innerlimit = 0\n",
    "outerlimit = 100\n",
    "rout_rin, rout = measure_widths(gaprad, ringrad,\n",
    "                                radialprofile[0], radialprofile[2], \n",
    "                                innerlimit, outerlimit)\n",
    "Delta = rout_rin/rout"
   ]
  },
  {
   "cell_type": "code",
   "execution_count": 7,
   "id": "statutory-centre",
   "metadata": {},
   "outputs": [
    {
     "name": "stdout",
     "output_type": "stream",
     "text": [
      "The gas density is larger than that triggers GI. Use the latter.\n",
      "amax=100um\n",
      "St idx = 5\n",
      "q = 9.3e-01 Mj/M*\n",
      "q = 3.0e+02 Me/M*\n",
      "Mp = 7.2e-01 Mj\n",
      "amax=1000um\n",
      "St idx = 3\n",
      "q = 5.2e-01 Mj/M*\n",
      "q = 1.7e+02 Me/M*\n",
      "Mp = 4.1e-01 Mj\n",
      "amax=10000um\n",
      "St idx = 0\n",
      "the fitting at such a high St has a large scattering.\n",
      "q = 2.2e-06 Mj/M*\n",
      "q = 7.0e-04 Me/M*\n",
      "Mp = 1.7e-06 Mj\n"
     ]
    }
   ],
   "source": [
    "hr = hr\n",
    "Mstar = Mstar  # Msun\n",
    "Delta = Delta  # (rout-rin)/rout\n",
    "sigmad = sigmad_ave\n",
    "sigmagGI = sigmagGI\n",
    "alpha = 1e-3\n",
    "\n",
    "for amax in [100, 1000, 10000]:\n",
    "\n",
    "    idxSt = get_St0(hr, sigmad, amax, sigmagGI) #St\n",
    "    print (f\"amax={amax}um\")\n",
    "    print (f\"St idx = {idxSt}\")\n",
    "    Mp = get_Mp(Delta, idxSt, Mstar, hr, alpha)"
   ]
  }
 ],
 "metadata": {
  "kernelspec": {
   "display_name": "Python 3",
   "language": "python",
   "name": "python3"
  },
  "language_info": {
   "codemirror_mode": {
    "name": "ipython",
    "version": 3
   },
   "file_extension": ".py",
   "mimetype": "text/x-python",
   "name": "python",
   "nbconvert_exporter": "python",
   "pygments_lexer": "ipython3",
   "version": "3.7.10"
  }
 },
 "nbformat": 4,
 "nbformat_minor": 5
}
