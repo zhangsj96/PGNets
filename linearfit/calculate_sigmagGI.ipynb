{
 "cells": [
  {
   "cell_type": "code",
   "execution_count": 1,
   "id": "european-departure",
   "metadata": {},
   "outputs": [],
   "source": [
    "import numpy as np\n",
    "from analysistools import *"
   ]
  },
  {
   "cell_type": "markdown",
   "id": "metropolitan-steal",
   "metadata": {},
   "source": [
    "The maximum gas surface density when the disk is stable"
   ]
  },
  {
   "cell_type": "code",
   "execution_count": 2,
   "id": "czech-bowling",
   "metadata": {},
   "outputs": [
    {
     "name": "stdout",
     "output_type": "stream",
     "text": [
      "Sigma_g,GI = 58.6 g/cm2\n"
     ]
    }
   ],
   "source": [
    "params_dict = np.load(\"./paramsnubeamL.npy\", allow_pickle=True)[()]\n",
    "diskname2 = 'Elias_24'\n",
    "Lstar = 10**params_dict['logL'][diskname2]\n",
    "Mstar = 10** params_dict['logM'][diskname2]# Msun\n",
    "rgap = 57\n",
    "\n",
    "sigmagGI = calculate_sigmagGI(rgap, Lstar, Mstar, phi=0.02)\n",
    "print (\"Sigma_g,GI = {:1.1f} g/cm2\".format(sigmagGI))"
   ]
  }
 ],
 "metadata": {
  "kernelspec": {
   "display_name": "Python 3",
   "language": "python",
   "name": "python3"
  },
  "language_info": {
   "codemirror_mode": {
    "name": "ipython",
    "version": 3
   },
   "file_extension": ".py",
   "mimetype": "text/x-python",
   "name": "python",
   "nbconvert_exporter": "python",
   "pygments_lexer": "ipython3",
   "version": "3.7.10"
  }
 },
 "nbformat": 4,
 "nbformat_minor": 5
}
