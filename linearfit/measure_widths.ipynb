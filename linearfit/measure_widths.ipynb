{
 "cells": [
  {
   "cell_type": "code",
   "execution_count": 1,
   "id": "chronic-transformation",
   "metadata": {},
   "outputs": [],
   "source": [
    "import numpy as np\n",
    "from analysistools import *"
   ]
  },
  {
   "cell_type": "markdown",
   "id": "varied-gamma",
   "metadata": {},
   "source": [
    "Note: wide gap (Delta>0.15), 2.shallow gap (Delta<0.15)\n",
    "The linear fitting method only applies to wide gaps"
   ]
  },
  {
   "cell_type": "code",
   "execution_count": 2,
   "id": "welcome-culture",
   "metadata": {},
   "outputs": [
    {
     "name": "stdout",
     "output_type": "stream",
     "text": [
      "AS209 width = 0.42\n"
     ]
    }
   ],
   "source": [
    "# These are for DSHARP disks\n",
    "diskname = \"AS209\"\n",
    "fileaddress = f\"https://almascience.eso.org/almadata/lp/DSHARP/profiles/{diskname}.profile.txt\"\n",
    "radialprofile = np.genfromtxt(fileaddress).T\n",
    "\n",
    "gaprad = 8.69\n",
    "ringrad = 14.2\n",
    "innerlimit = 0\n",
    "outerlimit = 24\n",
    "rout_rin, rout = measure_widths(gaprad, ringrad,\n",
    "                                radialprofile[0], radialprofile[2], \n",
    "                                innerlimit, outerlimit)\n",
    "Delta = rout_rin/rout\n",
    "print (f\"{diskname} width = {Delta:1.2f}\")"
   ]
  },
  {
   "cell_type": "code",
   "execution_count": 3,
   "id": "labeled-replica",
   "metadata": {},
   "outputs": [
    {
     "name": "stdout",
     "output_type": "stream",
     "text": [
      "AS209 width = 0.31\n"
     ]
    }
   ],
   "source": [
    "# These are for DSHARP disks\n",
    "diskname = \"AS209\"\n",
    "fileaddress = f\"https://almascience.eso.org/almadata/lp/DSHARP/profiles/{diskname}.profile.txt\"\n",
    "radialprofile = np.genfromtxt(fileaddress).T\n",
    "\n",
    "gaprad = 96.7\n",
    "ringrad = 120.3\n",
    "innerlimit = 0\n",
    "outerlimit = 130\n",
    "rout_rin, rout = measure_widths(gaprad, ringrad,\n",
    "                                radialprofile[0], radialprofile[2], \n",
    "                                innerlimit, outerlimit)\n",
    "Delta = rout_rin/rout\n",
    "print (f\"{diskname} width = {Delta:1.2f}\")"
   ]
  },
  {
   "cell_type": "code",
   "execution_count": 4,
   "id": "attended-syndicate",
   "metadata": {},
   "outputs": [
    {
     "name": "stdout",
     "output_type": "stream",
     "text": [
      "GWLup width = 0.15\n"
     ]
    }
   ],
   "source": [
    "# These are for DSHARP disks\n",
    "diskname = \"GWLup\"\n",
    "fileaddress = f\"https://almascience.eso.org/almadata/lp/DSHARP/profiles/{diskname}.profile.txt\"\n",
    "radialprofile = np.genfromtxt(fileaddress).T\n",
    "\n",
    "gaprad = 74.3\n",
    "ringrad = 85.4\n",
    "innerlimit = 0\n",
    "outerlimit = 100\n",
    "rout_rin, rout = measure_widths(gaprad, ringrad,\n",
    "                                radialprofile[0], radialprofile[2], \n",
    "                                innerlimit, outerlimit)\n",
    "Delta = rout_rin/rout\n",
    "print (f\"{diskname} width = {Delta:1.2f}\")"
   ]
  },
  {
   "cell_type": "code",
   "execution_count": 5,
   "id": "threaded-marshall",
   "metadata": {},
   "outputs": [
    {
     "name": "stdout",
     "output_type": "stream",
     "text": [
      "width = 0.32\n"
     ]
    }
   ],
   "source": [
    "# These are for DSHARP disks\n",
    "diskname = \"Elias24\"\n",
    "fileaddress = f\"https://almascience.eso.org/almadata/lp/DSHARP/profiles/{diskname}.profile.txt\"\n",
    "radialprofile = np.genfromtxt(fileaddress).T\n",
    "\n",
    "gaprad = 56.8\n",
    "ringrad = 76.7\n",
    "innerlimit = 0\n",
    "outerlimit = 100\n",
    "rout_rin, rout = measure_widths(gaprad, ringrad,\n",
    "                                radialprofile[0], radialprofile[2], \n",
    "                                innerlimit, outerlimit)\n",
    "Delta = rout_rin/rout\n",
    "print (f\"width = {Delta:1.2f}\")"
   ]
  },
  {
   "cell_type": "markdown",
   "id": "fossil-tomato",
   "metadata": {},
   "source": [
    "Another way to find gap width quickly"
   ]
  },
  {
   "cell_type": "code",
   "execution_count": 6,
   "id": "advanced-going",
   "metadata": {},
   "outputs": [
    {
     "name": "stdout",
     "output_type": "stream",
     "text": [
      "rin = 47.9 au; rout = 70.7 au\n",
      "width = 0.322\n"
     ]
    },
    {
     "data": {
      "text/plain": [
       "Text(0, 0.5, 'I [mJy/beam]')"
      ]
     },
     "execution_count": 6,
     "metadata": {},
     "output_type": "execute_result"
    },
    {
     "data": {
      "image/png": "[encoded data removed]",
      "text/plain": [
       "<Figure size 540x360 with 1 Axes>"
      ]
     },
     "metadata": {
      "needs_background": "light"
     },
     "output_type": "display_data"
    }
   ],
   "source": [
    "%matplotlib inline\n",
    "import matplotlib.pyplot as plt\n",
    "from scipy.signal import find_peaks\n",
    "from scipy.interpolate import interp1d, UnivariateSpline\n",
    "\n",
    "r, intensity, err = radialprofile[[0,2,3]]\n",
    "prominence = 0.05\n",
    "rightbound = 129# AU\n",
    "intensity = intensity[r < rightbound]\n",
    "err       = err[r < rightbound]\n",
    "r         = r[r < rightbound]\n",
    "\n",
    "prominence = prominence * np.mean(intensity)\n",
    "\n",
    "dips_idx = find_peaks(-intensity, prominence= prominence)[0]\n",
    "peaks_idx = find_peaks(intensity, prominence= prominence)[0]\n",
    "extrema_idx = np.append(peaks_idx, dips_idx)\n",
    "extrema_idx.sort()\n",
    "\n",
    "I_half = (intensity[extrema_idx][-1] + intensity[extrema_idx][-2]) / 2.\n",
    "I_r = UnivariateSpline(r, intensity - I_half, s=0)\n",
    "edges = I_r.roots()\n",
    "edges = edges[(edges <  r[extrema_idx][-1])]\n",
    "rin   = edges[-2]\n",
    "rout  = edges[-1]\n",
    "width = (rout-rin)/rout\n",
    "\n",
    "plt.rc(\"font\", size=15)\n",
    "plt.figure(figsize=(7.5, 5))\n",
    "plt.plot(r, intensity)\n",
    "plt.plot(r[peaks_idx], intensity[peaks_idx], \"*\")\n",
    "plt.plot(r[dips_idx], intensity[dips_idx], \"^\")\n",
    "plt.vlines(edges, 0, 2*np.mean(intensity), alpha = 0.5)\n",
    "\n",
    "ylim = plt.ylim()\n",
    "plt.text(rin, ylim[1], f'rin={rin:3.1f}au')\n",
    "plt.text(rout, ylim[1]/2, f'rout={rout:3.1f}au')\n",
    "\n",
    "\n",
    "print (f\"rin = {rin:3.1f} au;\", f\"rout = {rout:3.1f} au\")\n",
    "print (f\"width = {width:3.3f}\")\n",
    "\n",
    "plt.semilogy()\n",
    "plt.xlabel(\"r [au]\")\n",
    "plt.ylabel(\"I [mJy/beam]\")"
   ]
  }
 ],
 "metadata": {
  "kernelspec": {
   "display_name": "Python 3",
   "language": "python",
   "name": "python3"
  },
  "language_info": {
   "codemirror_mode": {
    "name": "ipython",
    "version": 3
   },
   "file_extension": ".py",
   "mimetype": "text/x-python",
   "name": "python",
   "nbconvert_exporter": "python",
   "pygments_lexer": "ipython3",
   "version": "3.7.10"
  }
 },
 "nbformat": 4,
 "nbformat_minor": 5
}
