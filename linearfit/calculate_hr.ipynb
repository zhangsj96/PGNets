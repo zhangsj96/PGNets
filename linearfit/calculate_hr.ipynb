{
 "cells": [
  {
   "cell_type": "code",
   "execution_count": 1,
   "id": "western-reading",
   "metadata": {},
   "outputs": [],
   "source": [
    "import numpy as np\n",
    "from analysistools import *"
   ]
  },
  {
   "cell_type": "code",
   "execution_count": 2,
   "id": "minus-financing",
   "metadata": {},
   "outputs": [
    {
     "name": "stdout",
     "output_type": "stream",
     "text": [
      "h/r = 0.087\n"
     ]
    }
   ],
   "source": [
    "params_dict = np.load(\"./paramsnubeamL.npy\", allow_pickle=True)[()]\n",
    "diskname2 = 'Elias_24'\n",
    "Lstar = 10**params_dict['logL'][diskname2]\n",
    "Mstar = 10** params_dict['logM'][diskname2]# Msun\n",
    "rgap = 57\n",
    "\n",
    "hr = calculate_hr(rgap, Lstar, Mstar)\n",
    "print (\"h/r = {:1.3f}\".format(round(hr, 3)))"
   ]
  }
 ],
 "metadata": {
  "kernelspec": {
   "display_name": "Python 3",
   "language": "python",
   "name": "python3"
  },
  "language_info": {
   "codemirror_mode": {
    "name": "ipython",
    "version": 3
   },
   "file_extension": ".py",
   "mimetype": "text/x-python",
   "name": "python",
   "nbconvert_exporter": "python",
   "pygments_lexer": "ipython3",
   "version": "3.7.10"
  }
 },
 "nbformat": 4,
 "nbformat_minor": 5
}
