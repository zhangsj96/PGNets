{
 "cells": [
  {
   "cell_type": "code",
   "execution_count": 1,
   "id": "pressing-heather",
   "metadata": {},
   "outputs": [],
   "source": [
    "%matplotlib inline\n",
    "import matplotlib.pyplot as plt\n",
    "import numpy as np\n",
    "from analysistools import *"
   ]
  },
  {
   "cell_type": "markdown",
   "id": "dependent-advocacy",
   "metadata": {},
   "source": [
    "1. calculate optical depth\n",
    "  * intensity profile\n",
    "  * beam sizes\n",
    "  * observation band\n",
    "  * flaring angle (phi)\n",
    "  * Stellar luminosity\n",
    "2. convert to dust density\n",
    "  * assume a dust opacity (absportion only)\n",
    "3. intergrate dust density [1.1 $r_p$ to 2 $r_p$]\n",
    "\n",
    "Note: Some dust densities calculated here are different from\n",
    "those in Table 3 (5) since the intensities were recalibrated\n",
    "for some disks, e.g., AS 209. The values in Table 3.\n",
    "uses the old radio profile, whereas here we use new profiles\n",
    "on the website.\n"
   ]
  },
  {
   "cell_type": "code",
   "execution_count": 2,
   "id": "potential-walter",
   "metadata": {},
   "outputs": [],
   "source": [
    "# These are parameters for DSHARP disks\n",
    "params_dict = np.load(\"./paramsnubeamL.npy\", allow_pickle=True)[()]\n",
    "\n",
    "diskname = \"AS209\"\n",
    "fileaddress = f\"https://almascience.eso.org/almadata/lp/DSHARP/profiles/{diskname}.profile.txt\"\n",
    "radialprofile = np.genfromtxt(fileaddress).T"
   ]
  },
  {
   "cell_type": "code",
   "execution_count": 3,
   "id": "heavy-ghost",
   "metadata": {},
   "outputs": [
    {
     "name": "stdout",
     "output_type": "stream",
     "text": [
      "the average dust surface density from 1.1 r_p to 2.0 rp is 1.09 g cm^-2\n"
     ]
    }
   ],
   "source": [
    "kappa = 0.43  # [cm^2/g] DSHARP absorption opacity amax=0.1mm\n",
    "rgap = 9     # gap position in au\n",
    "phi       = 0.02\n",
    "diskname2 = 'AS_209'\n",
    "nu =        params_dict['nu'][diskname2]  * 1e9\n",
    "theta_maj = params_dict['theta_maj'][diskname2] * 1e-3\n",
    "theta_min = params_dict['theta_min'][diskname2] * 1e-3\n",
    "Lstar_Lsun= 10**params_dict['logL'][diskname2]\n",
    "\n",
    "params = [Lstar_Lsun, phi, theta_maj, theta_min, nu]\n",
    "# calculate optical depth profile\n",
    "tau = tau_r(radialprofile[0], radialprofile[2], params)\n",
    "# calculate dust surface density\n",
    "sigma_d = tau/kappa\n",
    "# calculate average dust density\n",
    "sigmad_ave = sigmadgap(radialprofile[0], sigma_d, rgap, left_end=1.1, right_end=2.)\n",
    "print (f\"the average dust surface density from 1.1 r_p to 2.0 rp is {sigmad_ave:1.2f} g cm^-2\")"
   ]
  },
  {
   "cell_type": "code",
   "execution_count": 4,
   "id": "dynamic-watershed",
   "metadata": {},
   "outputs": [
    {
     "name": "stdout",
     "output_type": "stream",
     "text": [
      "the average dust surface density from 1.1 r_p to 2.0 rp is 0.16 g cm^-2\n"
     ]
    }
   ],
   "source": [
    "kappa = 0.43  # [cm^2/g] DSHARP absorption opacity amax=0.1mm\n",
    "rgap = 99     # gap position in au\n",
    "phi       = 0.02\n",
    "diskname2 = 'AS_209'\n",
    "nu =        params_dict['nu'][diskname2]  * 1e9\n",
    "theta_maj = params_dict['theta_maj'][diskname2] * 1e-3\n",
    "theta_min = params_dict['theta_min'][diskname2] * 1e-3\n",
    "Lstar_Lsun= 10**params_dict['logL'][diskname2]\n",
    "\n",
    "params = [Lstar_Lsun, phi, theta_maj, theta_min, nu]\n",
    "# calculate optical depth profile\n",
    "tau = tau_r(radialprofile[0], radialprofile[2], params)\n",
    "# calculate dust surface density\n",
    "sigma_d = tau/kappa\n",
    "# calculate average dust density\n",
    "sigmad_ave = sigmadgap(radialprofile[0], sigma_d, rgap, left_end=1.1, right_end=1.9)\n",
    "print (f\"the average dust surface density from 1.1 r_p to 2.0 rp is {sigmad_ave:1.2f} g cm^-2\")"
   ]
  },
  {
   "cell_type": "code",
   "execution_count": 5,
   "id": "accessory-enemy",
   "metadata": {},
   "outputs": [],
   "source": [
    "# These are parameters for DSHARP disks\n",
    "params_dict = np.load(\"./paramsnubeamL.npy\", allow_pickle=True)[()]\n",
    "\n",
    "diskname = \"Elias24\"\n",
    "fileaddress = f\"https://almascience.eso.org/almadata/lp/DSHARP/profiles/{diskname}.profile.txt\"\n",
    "radialprofile = np.genfromtxt(fileaddress).T"
   ]
  },
  {
   "cell_type": "code",
   "execution_count": 6,
   "id": "crude-hazard",
   "metadata": {},
   "outputs": [
    {
     "name": "stdout",
     "output_type": "stream",
     "text": [
      "the average dust surface density from 1.1 r_p to 2.0 rp is 0.52 g cm^-2\n"
     ]
    }
   ],
   "source": [
    "kappa = 0.43  # [cm^2/g] DSHARP absorption opacity amax=0.1mm\n",
    "rgap = 57     # gap position in au\n",
    "phi       = 0.02\n",
    "diskname2 = 'Elias_24'\n",
    "nu =        params_dict['nu'][diskname2]  * 1e9\n",
    "theta_maj = params_dict['theta_maj'][diskname2] * 1e-3\n",
    "theta_min = params_dict['theta_min'][diskname2] * 1e-3\n",
    "Lstar_Lsun= 10**params_dict['logL'][diskname2]\n",
    "\n",
    "params = [Lstar_Lsun, phi, theta_maj, theta_min, nu]\n",
    "# calculate optical depth profile\n",
    "tau = tau_r(radialprofile[0], radialprofile[2], params)\n",
    "# calculate dust surface density\n",
    "sigma_d = tau/kappa\n",
    "# calculate average dust density\n",
    "sigmad_ave = sigmadgap(radialprofile[0], sigma_d, rgap)\n",
    "print (f\"the average dust surface density from 1.1 r_p to 2.0 rp is {sigmad_ave:1.2f} g cm^-2\")"
   ]
  },
  {
   "cell_type": "code",
   "execution_count": 7,
   "id": "reserved-commonwealth",
   "metadata": {},
   "outputs": [],
   "source": [
    "# These are parameters for DSHARP disks\n",
    "params_dict = np.load(\"./paramsnubeamL.npy\", allow_pickle=True)[()]\n",
    "\n",
    "diskname = \"GWLup\"\n",
    "fileaddress = f\"https://almascience.eso.org/almadata/lp/DSHARP/profiles/{diskname}.profile.txt\"\n",
    "radialprofile = np.genfromtxt(fileaddress).T\n"
   ]
  },
  {
   "cell_type": "code",
   "execution_count": 8,
   "id": "victorian-implementation",
   "metadata": {},
   "outputs": [
    {
     "name": "stdout",
     "output_type": "stream",
     "text": [
      "the average dust surface density from 1.1 r_p to 2.0 rp is 0.13 g cm^-2\n"
     ]
    }
   ],
   "source": [
    "kappa = 0.43  # [cm^2/g] DSHARP absorption opacity amax=0.1mm\n",
    "rgap = 74     # gap position in au\n",
    "phi       = 0.02\n",
    "diskname2 = 'GW_Lup'\n",
    "nu =        params_dict['nu'][diskname2]  * 1e9\n",
    "theta_maj = params_dict['theta_maj'][diskname2] * 1e-3\n",
    "theta_min = params_dict['theta_min'][diskname2] * 1e-3\n",
    "Lstar_Lsun= 10**params_dict['logL'][diskname2]\n",
    "\n",
    "params = [Lstar_Lsun, phi, theta_maj, theta_min, nu]\n",
    "# calculate optical depth profile\n",
    "tau = tau_r(radialprofile[0], radialprofile[2], params)\n",
    "# calculate dust surface density\n",
    "sigma_d = tau/kappa\n",
    "# calculate average dust density\n",
    "sigmad_ave = sigmadgap(radialprofile[0], sigma_d, rgap)\n",
    "print (f\"the average dust surface density from 1.1 r_p to 2.0 rp is {sigmad_ave:1.2f} g cm^-2\")"
   ]
  }
 ],
 "metadata": {
  "kernelspec": {
   "display_name": "Python 3",
   "language": "python",
   "name": "python3"
  },
  "language_info": {
   "codemirror_mode": {
    "name": "ipython",
    "version": 3
   },
   "file_extension": ".py",
   "mimetype": "text/x-python",
   "name": "python",
   "nbconvert_exporter": "python",
   "pygments_lexer": "ipython3",
   "version": "3.7.10"
  }
 },
 "nbformat": 4,
 "nbformat_minor": 5
}
