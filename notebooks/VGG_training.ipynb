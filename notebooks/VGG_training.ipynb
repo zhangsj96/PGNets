{
 "cells": [
  {
   "cell_type": "code",
   "execution_count": 1,
   "metadata": {},
   "outputs": [],
   "source": [
    "from learningtools import *\n",
    "import os\n",
    "#os.environ[\"CUDA_DEVICE_ORDER\"]=\"PCI_BUS_ID\"\n",
    "#os.environ[\"CUDA_VISIBLE_DEVICES\"]=\"5\""
   ]
  },
  {
   "cell_type": "code",
   "execution_count": 2,
   "metadata": {},
   "outputs": [],
   "source": [
    "subset = np.load(\"../data/simimgs.npy\")\n",
    "subset = subset[:, :, :, 0, :, : , :, :, :]\n",
    "# (5, 3, 3, 1, 32, 5, 24, 64, 64)\n",
    "\n",
    "# planet mass\n",
    "y = np.zeros(subset.shape[:-2], dtype=int)\n",
    "for i in range(5):\n",
    "    y[i] = i\n",
    "    \n",
    "x = subset.reshape(-1, subset.shape[-4], subset.shape[-3], subset.shape[-2], subset.shape[-1])\n",
    "y = y.reshape(-1, subset.shape[-4], subset.shape[-3])\n",
    "\n",
    "# shuffle 1440 models\n",
    "\n",
    "np.random.seed(0)\n",
    "index = np.arange(np.cumprod(subset.shape)[3])\n",
    "np.random.shuffle(index)\n",
    "\n",
    "x = x[index]\n",
    "y = y[index]\n",
    "\n",
    "x = x.reshape(-1, 64, 64)\n",
    "y = y.reshape(-1)"
   ]
  },
  {
   "cell_type": "code",
   "execution_count": 3,
   "metadata": {},
   "outputs": [],
   "source": [
    "# agumentation\n",
    "xprime = np.zeros_like(x)\n",
    "for i in range(x.shape[0]):\n",
    "    xnew = x[i]  + 0.1*np.std(x[i])* np.random.random( (64, 64) )\n",
    "    xnew = (np.log10(xnew) - np.log10(xnew.max()) + 2.) / 2.\n",
    "    xprime[i] = xnew \n",
    "xprime[xprime < 0] = 0\n",
    "x = xprime\n",
    "\n",
    "# split trainig, validation and test data to 60%, 20% and 20%.\n",
    "# 0.6: 0.2: 0.2\n",
    "x_train = x[:int(x.shape[0]*0.6)]\n",
    "y_train = y[:int(x.shape[0]*0.6)]\n",
    "\n",
    "x_val = x[int(x.shape[0]*0.6):int(x.shape[0]*0.8)]\n",
    "y_val = y[int(x.shape[0]*0.6):int(x.shape[0]*0.8)]\n",
    "\n",
    "x_test  = x[int(x.shape[0]*0.8):]\n",
    "y_test  = y[int(x.shape[0]*0.8):]\n",
    "\n",
    "# shuffle within the each set\n",
    "\n",
    "index = np.arange(y_train.shape[0])\n",
    "np.random.seed(0) \n",
    "np.random.shuffle(index)\n",
    "x_train = x_train[index]\n",
    "y_train = y_train[index]\n",
    "\n",
    "\n",
    "index = np.arange(y_val.shape[0])\n",
    "np.random.seed(0)\n",
    "np.random.shuffle(index)\n",
    "x_val = x_val[index]\n",
    "y_val = y_val[index]\n",
    "\n",
    "index = np.arange(y_test.shape[0])\n",
    "np.random.seed(0)\n",
    "np.random.shuffle(index)\n",
    "x_test = x_test[index]\n",
    "y_test = y_test[index]"
   ]
  },
  {
   "cell_type": "code",
   "execution_count": 4,
   "metadata": {},
   "outputs": [],
   "source": [
    "model = tf.keras.models.Sequential([\n",
    "          tf.keras.layers.Conv2D(16, (3, 3), activation='relu', padding='same', input_shape=( 64, 64, 1)),\n",
    "          tf.keras.layers.Conv2D(16, (3, 3), activation='relu', padding='same'),\n",
    "          tf.keras.layers.MaxPooling2D((2, 2)),\n",
    "          tf.keras.layers.Conv2D(64, (3, 3), activation='relu', padding='same'),\n",
    "          tf.keras.layers.Conv2D(64, (3, 3), activation='relu', padding='same'),\n",
    "          tf.keras.layers.MaxPooling2D((2, 2)),\n",
    "          tf.keras.layers.Conv2D(256, (3, 3), activation='relu', padding='same'),\n",
    "          tf.keras.layers.Conv2D(256, (3, 3), activation='relu', padding='same'),\n",
    "          tf.keras.layers.MaxPooling2D((2, 2)),\n",
    "          #tf.keras.layers.Conv2D(1024, (3, 3), activation='relu', padding='same'),\n",
    "          #tf.keras.layers.Conv2D(1024, (3, 3), activation='relu', padding='same'),\n",
    "          #tf.keras.layers.MaxPooling2D((2, 2)),\n",
    "          tf.keras.layers.Flatten(),\n",
    "          tf.keras.layers.Dense(512, activation='relu'),\n",
    "          tf.keras.layers.Dropout(0.2),\n",
    "          tf.keras.layers.Dense(512, activation='relu'),\n",
    "          tf.keras.layers.Dropout(0.2),\n",
    "          tf.keras.layers.Dense(128, activation='relu'),\n",
    "          tf.keras.layers.Dropout(0.2),\n",
    "          tf.keras.layers.Dense(5)\n",
    "        ])"
   ]
  },
  {
   "cell_type": "code",
   "execution_count": 5,
   "metadata": {},
   "outputs": [],
   "source": [
    "decay_steps = 60\n",
    "initial_learning_rate = 1e-3\n",
    "lr_decayed_fn = tf.keras.experimental.CosineDecay(\n",
    "    initial_learning_rate, decay_steps)\n",
    "def lr_schedule(x):\n",
    "    return float(lr_decayed_fn(x))\n",
    "lr_scheduler = tf.keras.callbacks.LearningRateScheduler(lr_schedule)"
   ]
  },
  {
   "cell_type": "code",
   "execution_count": null,
   "metadata": {},
   "outputs": [],
   "source": [
    "accuracies = np.zeros((2, 60))\n",
    "loss_fn = tf.keras.losses.SparseCategoricalCrossentropy(from_logits=True)\n",
    "    \n",
    "# optimizer Adam optimization is a stochastic gradient descent method that is based on\n",
    "    #  adaptive estimation of first-order and second-order moments\n",
    "model.compile(tf.keras.optimizers.Adam(learning_rate=1e-3),\n",
    "                  loss=loss_fn,\n",
    "                  metrics=['accuracy'])\n",
    "\n",
    "\n",
    "datagen = tf.keras.preprocessing.image.ImageDataGenerator(\n",
    "    width_shift_range=0.1,\n",
    "    height_shift_range=0.1,\n",
    "    horizontal_flip=True)\n",
    "# compute quantities required for featurewise normalization\n",
    "# (std, mean, and principal components if ZCA whitening is applied)\n",
    "# fits the model on batches with real-time data augmentation:\n",
    "model.fit(datagen.flow(x_train[:,:,:, None], y_train, batch_size=128),\n",
    "          validation_data = (x_val[:,:,:, None], y_val),\n",
    "                    callbacks=[lr_scheduler], epochs=60)"
   ]
  },
  {
   "cell_type": "code",
   "execution_count": 20,
   "metadata": {},
   "outputs": [],
   "source": [
    "model = tf.keras.models.load_model(\"../model/VGG_like/model\")"
   ]
  }
 ],
 "metadata": {
  "kernelspec": {
   "display_name": "Python 3",
   "language": "python",
   "name": "python3"
  },
  "language_info": {
   "codemirror_mode": {
    "name": "ipython",
    "version": 3
   },
   "file_extension": ".py",
   "mimetype": "text/x-python",
   "name": "python",
   "nbconvert_exporter": "python",
   "pygments_lexer": "ipython3",
   "version": "3.7.10"
  }
 },
 "nbformat": 4,
 "nbformat_minor": 4
}
