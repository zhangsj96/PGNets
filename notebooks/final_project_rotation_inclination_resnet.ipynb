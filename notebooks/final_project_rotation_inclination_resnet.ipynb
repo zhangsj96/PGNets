{
 "cells": [
  {
   "cell_type": "code",
   "execution_count": 2,
   "metadata": {},
   "outputs": [],
   "source": [
    "from __future__ import print_function\n",
    "import tensorflow.keras\n",
    "from tensorflow.keras.layers import Dense, Conv2D\n",
    "from tensorflow.keras.layers import BatchNormalization, Activation\n",
    "from tensorflow.keras.layers import AveragePooling2D, Input, Flatten\n",
    "from tensorflow.keras.optimizers import Adam\n",
    "from tensorflow.keras.callbacks import ModelCheckpoint\n",
    "from tensorflow.keras.callbacks import LearningRateScheduler\n",
    "from tensorflow.keras.callbacks import ReduceLROnPlateau\n",
    "from tensorflow.keras.preprocessing.image import ImageDataGenerator\n",
    "from tensorflow.keras.regularizers import l2\n",
    "from tensorflow.keras import backend as K\n",
    "from tensorflow.keras.models import Model\n",
    "from tensorflow.keras.datasets import cifar10\n",
    "import numpy as np\n",
    "import os"
   ]
  },
  {
   "cell_type": "code",
   "execution_count": 3,
   "metadata": {},
   "outputs": [
    {
     "name": "stdout",
     "output_type": "stream",
     "text": [
      "Sat Oct 24 03:29:26 2020       \n",
      "+-----------------------------------------------------------------------------+\n",
      "| NVIDIA-SMI 440.44       Driver Version: 440.44       CUDA Version: 10.2     |\n",
      "|-------------------------------+----------------------+----------------------+\n",
      "| GPU  Name        Persistence-M| Bus-Id        Disp.A | Volatile Uncorr. ECC |\n",
      "| Fan  Temp  Perf  Pwr:Usage/Cap|         Memory-Usage | GPU-Util  Compute M. |\n",
      "|===============================+======================+======================|\n",
      "|   0  GeForce RTX 208...  On   | 00000000:1A:00.0 Off |                  N/A |\n",
      "| 22%   27C    P8    20W / 250W |     11MiB / 11019MiB |      0%      Default |\n",
      "+-------------------------------+----------------------+----------------------+\n",
      "|   1  GeForce RTX 208...  On   | 00000000:1B:00.0 Off |                  N/A |\n",
      "| 22%   27C    P8     1W / 250W |     11MiB / 11019MiB |      0%      Default |\n",
      "+-------------------------------+----------------------+----------------------+\n",
      "|   2  GeForce RTX 208...  On   | 00000000:3D:00.0 Off |                  N/A |\n",
      "| 27%   45C    P2    62W / 250W |   7303MiB / 11019MiB |      5%      Default |\n",
      "+-------------------------------+----------------------+----------------------+\n",
      "|   3  GeForce RTX 208...  On   | 00000000:3E:00.0 Off |                  N/A |\n",
      "| 70%   71C    P2   190W / 250W |  10905MiB / 11019MiB |     89%      Default |\n",
      "+-------------------------------+----------------------+----------------------+\n",
      "|   4  GeForce RTX 208...  On   | 00000000:88:00.0 Off |                  N/A |\n",
      "| 22%   23C    P8    12W / 250W |    294MiB / 11019MiB |      0%      Default |\n",
      "+-------------------------------+----------------------+----------------------+\n",
      "|   5  GeForce RTX 208...  On   | 00000000:89:00.0 Off |                  N/A |\n",
      "| 22%   24C    P8    11W / 250W |     11MiB / 11019MiB |      0%      Default |\n",
      "+-------------------------------+----------------------+----------------------+\n",
      "|   6  GeForce RTX 208...  On   | 00000000:B1:00.0 Off |                  N/A |\n",
      "| 22%   27C    P8    19W / 250W |     11MiB / 11019MiB |      0%      Default |\n",
      "+-------------------------------+----------------------+----------------------+\n",
      "|   7  GeForce RTX 208...  On   | 00000000:B2:00.0 Off |                  N/A |\n",
      "| 64%   67C    P2   227W / 250W |   1564MiB / 11019MiB |     54%      Default |\n",
      "+-------------------------------+----------------------+----------------------+\n",
      "                                                                               \n",
      "+-----------------------------------------------------------------------------+\n",
      "| Processes:                                                       GPU Memory |\n",
      "|  GPU       PID   Type   Process name                             Usage      |\n",
      "|=============================================================================|\n",
      "|    2     45393      C   python3                                     7139MiB |\n",
      "|    2     47580      C   python3                                      153MiB |\n",
      "|    3     10712      C   python3                                      921MiB |\n",
      "|    3     18892      C   python3                                     9973MiB |\n",
      "|    4     18892      C   python3                                      283MiB |\n",
      "|    7      3174      C   python3                                     1553MiB |\n",
      "+-----------------------------------------------------------------------------+\n"
     ]
    }
   ],
   "source": [
    "!nvidia-smi"
   ]
  },
  {
   "cell_type": "code",
   "execution_count": 4,
   "metadata": {},
   "outputs": [],
   "source": [
    "import os\n",
    "os.environ[\"CUDA_DEVICE_ORDER\"]=\"PCI_BUS_ID\"\n",
    "os.environ[\"CUDA_VISIBLE_DEVICES\"]=\"5\"  # don’t use 0 for Hub"
   ]
  },
  {
   "cell_type": "code",
   "execution_count": 5,
   "metadata": {},
   "outputs": [],
   "source": [
    "%matplotlib inline\n",
    "import tensorflow as tf\n",
    "import pandas as pd\n",
    "import numpy as np\n",
    "import matplotlib.pyplot as plt\n",
    "from skimage import transform, measure\n",
    "from scipy import ndimage, misc"
   ]
  },
  {
   "cell_type": "code",
   "execution_count": 6,
   "metadata": {},
   "outputs": [],
   "source": [
    "subset = np.load(\"lessimgs2.npy\")\n",
    "subset = subset[:, :, :, 0, :, : , :, :, :]\n",
    "\n",
    "y = np.zeros(subset.shape[:-2], dtype=int)\n",
    "for i in range(5):\n",
    "    y[i] = i\n",
    "    \n",
    "x = subset.reshape(-1, subset.shape[-4], subset.shape[-3], subset.shape[-2], subset.shape[-1])\n",
    "y = y.reshape(-1, subset.shape[-4], subset.shape[-3])\n",
    "\n",
    "# shuffle\n",
    "\n",
    "np.random.seed(0)\n",
    "index = np.arange(np.cumprod(subset.shape)[3])\n",
    "np.random.shuffle(index)\n",
    "\n",
    "x = x[index]\n",
    "y = y[index]\n",
    "\n",
    "x = x.reshape(-1, 64, 64)\n",
    "y = y.reshape(-1)\n",
    "\n",
    "xprime = np.zeros_like(x)"
   ]
  },
  {
   "cell_type": "code",
   "execution_count": 7,
   "metadata": {},
   "outputs": [],
   "source": [
    "\n",
    "for i in range(x.shape[0]):\n",
    "    xnew = x[i]  + 0.1*np.std(x[i])* np.random.random( (64, 64) )\n",
    "    xnew = (np.log10(xnew) - np.log10(xnew.max()) + 2.) / 2.\n",
    "    xprime[i] = xnew \n",
    "xprime[xprime < 0] = 0\n",
    "\n",
    "x = xprime\n",
    "\n",
    "# 0.6: 0.2: 0.2\n",
    "x_train = x[:int(x.shape[0]*0.6)]\n",
    "y_train = y[:int(x.shape[0]*0.6)]\n",
    "\n",
    "x_val = x[int(x.shape[0]*0.6):int(x.shape[0]*0.8)]\n",
    "y_val = y[int(x.shape[0]*0.6):int(x.shape[0]*0.8)]\n",
    "\n",
    "x_test  = x[int(x.shape[0]*0.8):]\n",
    "y_test  = y[int(x.shape[0]*0.8):]\n",
    "\n",
    "index = np.arange(y_train.shape[0])\n",
    "np.random.seed(0)\n",
    "np.random.shuffle(index)\n",
    "x_train = x_train[index]\n",
    "y_train = y_train[index]\n",
    "\n",
    "\n",
    "index = np.arange(y_val.shape[0])\n",
    "np.random.seed(0)\n",
    "np.random.shuffle(index)\n",
    "x_val = x_val[index]\n",
    "y_val = y_val[index]\n",
    "\n",
    "index = np.arange(y_test.shape[0])\n",
    "np.random.seed(0)\n",
    "np.random.shuffle(index)\n",
    "x_test = x_test[index]\n",
    "y_test = y_test[index]"
   ]
  },
  {
   "cell_type": "code",
   "execution_count": 8,
   "metadata": {},
   "outputs": [],
   "source": [
    "x_train = x_train[:,:,:,None]\n",
    "x_val = x_val[:,:,:,None]\n",
    "x_test = x_test[:,:,:,None]"
   ]
  },
  {
   "cell_type": "code",
   "execution_count": 9,
   "metadata": {},
   "outputs": [],
   "source": [
    "# Training parameters\n",
    "BATCH_SIZE = 128  # orig paper trained all networks with batch_size=128\n",
    "EPOCHS = 100 # 200\n",
    "USE_AUGMENTATION = False\n",
    "NUM_CLASSES = np.unique(y_train).shape[0] # 10\n",
    "COLORS = x_train.shape[3]\n",
    "\n",
    "# Subtracting pixel mean improves accuracy\n",
    "SUBTRACT_PIXEL_MEAN = True\n",
    "\n",
    "# Model version\n",
    "# Orig paper: version = 1 (ResNet v1), \n",
    "# Improved ResNet: version = 2 \n",
    "# (ResNet v2)\n",
    "VERSION = 2\n",
    "\n",
    "# Computed depth from supplied model parameter n\n",
    "if VERSION == 1:\n",
    "    DEPTH = 2*COLORS * 6 + 2\n",
    "    #DEPTH = COLORS * 6 + 2\n",
    "elif VERSION == 2:\n",
    "    DEPTH = 2*COLORS * 9 + 2"
   ]
  },
  {
   "cell_type": "code",
   "execution_count": 32,
   "metadata": {},
   "outputs": [],
   "source": [
    "def lr_schedule(epoch):\n",
    "    \"\"\"Learning Rate Schedule\n",
    "\n",
    "    Learning rate is scheduled to be reduced after 80, 120, 160, 180 epochs.\n",
    "    Called automatically every epoch as part of callbacks during training.\n",
    "\n",
    "    # Arguments\n",
    "        epoch (int): The number of epochs\n",
    "\n",
    "    # Returns\n",
    "        lr (float32): learning rate\n",
    "    \"\"\"\n",
    "    lr = 5e-4\n",
    "    if epoch > 180:\n",
    "        lr *= 0.5e-3\n",
    "    elif epoch > 160:\n",
    "        lr *= 1e-3\n",
    "    elif epoch > 120:\n",
    "        lr *= 1e-2\n",
    "    elif epoch > 80:\n",
    "        lr *= 1e-1\n",
    "    print('Learning rate: ', lr)\n",
    "    return lr"
   ]
  },
  {
   "cell_type": "code",
   "execution_count": 33,
   "metadata": {},
   "outputs": [],
   "source": [
    "def lr_schedule(epoch):\n",
    "    \"\"\"Learning Rate Schedule\n",
    "\n",
    "    Learning rate is scheduled to be reduced after 80, 120, 160, 180 epochs.\n",
    "    Called automatically every epoch as part of callbacks during training.\n",
    "\n",
    "    # Arguments\n",
    "        epoch (int): The number of epochs\n",
    "\n",
    "    # Returns\n",
    "        lr (float32): learning rate\n",
    "    \"\"\"\n",
    "    lr = 5e-4\n",
    "    if epoch > 180:\n",
    "        lr *= 0.5e-3\n",
    "    elif epoch > 160:\n",
    "        lr *= 1e-3\n",
    "    elif epoch > 120:\n",
    "        lr *= 1e-2\n",
    "    elif epoch > 80:\n",
    "        lr *= 1e-1\n",
    "    print('Learning rate: ', lr)\n",
    "    return lr"
   ]
  },
  {
   "cell_type": "code",
   "execution_count": null,
   "metadata": {},
   "outputs": [],
   "source": [
    "def lr_schedule(epoch):\n",
    "    \"\"\"Learning Rate Schedule\n",
    "\n",
    "    Learning rate is scheduled to be reduced after 80, 120, 160, 180 epochs.\n",
    "    Called automatically every epoch as part of callbacks during training.\n",
    "\n",
    "    # Arguments\n",
    "        epoch (int): The number of epochs\n",
    "\n",
    "    # Returns\n",
    "        lr (float32): learning rate\n",
    "    \"\"\"\n",
    "    lr = 5e-4\n",
    "    if epoch > 180:\n",
    "        lr *= 0.5e-3\n",
    "    elif epoch > 160:\n",
    "        lr *= 1e-3\n",
    "    elif epoch > 120:\n",
    "        lr *= 1e-2\n",
    "    elif epoch > 80:\n",
    "        lr *= 1e-1\n",
    "    print('Learning rate: ', lr)\n",
    "    return lr"
   ]
  },
  {
   "cell_type": "code",
   "execution_count": null,
   "metadata": {},
   "outputs": [],
   "source": [
    "def lr_schedule(epoch):\n",
    "    \"\"\"Learning Rate Schedule\n",
    "\n",
    "    Learning rate is scheduled to be reduced after 80, 120, 160, 180 epochs.\n",
    "    Called automatically every epoch as part of callbacks during training.\n",
    "\n",
    "    # Arguments\n",
    "        epoch (int): The number of epochs\n",
    "\n",
    "    # Returns\n",
    "        lr (float32): learning rate\n",
    "    \"\"\"\n",
    "    lr = 5e-4\n",
    "    if epoch > 180:\n",
    "        lr *= 0.5e-3\n",
    "    elif epoch > 160:\n",
    "        lr *= 1e-3\n",
    "    elif epoch > 120:\n",
    "        lr *= 1e-2\n",
    "    elif epoch > 80:\n",
    "        lr *= 1e-1\n",
    "    print('Learning rate: ', lr)\n",
    "    return lr"
   ]
  },
  {
   "cell_type": "code",
   "execution_count": null,
   "metadata": {},
   "outputs": [],
   "source": [
    "def decayed_learning_rate(step):\n",
    "  step = min(step, decay_steps)\n",
    "  cosine_decay = 0.5 * (1 + cos(pi * step / decay_steps))\n",
    "  decayed = (1 - alpha) * cosine_decay + alpha\n",
    "  return initial_learning_rate * decayed"
   ]
  },
  {
   "cell_type": "code",
   "execution_count": 10,
   "metadata": {},
   "outputs": [],
   "source": [
    "tf.keras.experimental.CosineDecay?"
   ]
  },
  {
   "cell_type": "code",
   "execution_count": 11,
   "metadata": {},
   "outputs": [],
   "source": [
    "decay_steps = 100\n",
    "initial_learning_rate = 5e-3\n",
    "lr_decayed_fn = tf.keras.experimental.CosineDecay(\n",
    "    initial_learning_rate, decay_steps)"
   ]
  },
  {
   "cell_type": "code",
   "execution_count": 12,
   "metadata": {},
   "outputs": [],
   "source": [
    "def resnet_layer(inputs,\n",
    "                 num_filters=16,\n",
    "                 kernel_size=3,\n",
    "                 strides=1,\n",
    "                 activation='relu',\n",
    "                 batch_normalization=True,\n",
    "                 conv_first=True):\n",
    "    \"\"\"2D Convolution-Batch Normalization-Activation stack builder\n",
    "\n",
    "    # Arguments\n",
    "        inputs (tensor): input tensor from input image or previous layer\n",
    "        num_filters (int): Conv2D number of filters\n",
    "        kernel_size (int): Conv2D square kernel dimensions\n",
    "        strides (int): Conv2D square stride dimensions\n",
    "        activation (string): activation name\n",
    "        batch_normalization (bool): whether to include batch normalization\n",
    "        conv_first (bool): conv-bn-activation (True) or\n",
    "            bn-activation-conv (False)\n",
    "\n",
    "    # Returns\n",
    "        x (tensor): tensor as input to the next layer\n",
    "    \"\"\"\n",
    "    conv = Conv2D(num_filters,\n",
    "                  kernel_size=kernel_size,\n",
    "                  strides=strides,\n",
    "                  padding='same',\n",
    "                  kernel_initializer='he_normal',\n",
    "                  kernel_regularizer=l2(1e-4))\n",
    "\n",
    "    x = inputs\n",
    "    if conv_first:\n",
    "        x = conv(x)\n",
    "        if batch_normalization:\n",
    "            x = BatchNormalization()(x)\n",
    "        if activation is not None:\n",
    "            x = Activation(activation)(x)\n",
    "    else:\n",
    "        if batch_normalization:\n",
    "            x = BatchNormalization()(x)\n",
    "        if activation is not None:\n",
    "            x = Activation(activation)(x)\n",
    "        x = conv(x)\n",
    "    return x"
   ]
  },
  {
   "cell_type": "code",
   "execution_count": 13,
   "metadata": {},
   "outputs": [],
   "source": [
    "def resnet_v1(input_shape, depth, num_classes=10):\n",
    "    \"\"\"ResNet Version 1 Model builder [a]\n",
    "\n",
    "    Stacks of 2 x (3 x 3) Conv2D-BN-ReLU\n",
    "    Last ReLU is after the shortcut connection.\n",
    "    At the beginning of each stage, the feature \n",
    "    map size is halved (downsampled)\n",
    "    by a convolutional layer with strides=2, while the number of \n",
    "    filters is\n",
    "    doubled. Within each stage, the layers have the same number \n",
    "    filters and the same number of filters.\n",
    "    Features maps sizes:\n",
    "    stage 0: 32x32, 16\n",
    "    stage 1: 16x16, 32\n",
    "    stage 2:  8x8,  64\n",
    "    The Number of parameters is approx the same as Table 6 of [a]:\n",
    "    ResNet20 0.27M\n",
    "    ResNet32 0.46M\n",
    "    ResNet44 0.66M\n",
    "    ResNet56 0.85M\n",
    "    ResNet110 1.7M\n",
    "\n",
    "    # Arguments\n",
    "        input_shape (tensor): shape of input image tensor\n",
    "        depth (int): number of core convolutional layers\n",
    "        num_classes (int): number of classes (CIFAR10 has 10)\n",
    "\n",
    "    # Returns\n",
    "        model (Model): Keras model instance\n",
    "    \"\"\"\n",
    "    if (depth - 2) % 6 != 0:\n",
    "        raise ValueError('depth should be 6n+2 (eg 20, 32, 44 in [a])')\n",
    "    # Start model definition.\n",
    "    num_filters = 16\n",
    "    num_res_blocks = int((depth - 2) / 6)\n",
    "\n",
    "    inputs = Input(shape=input_shape)\n",
    "    x = resnet_layer(inputs=inputs)\n",
    "    # Instantiate the stack of residual units\n",
    "    for stack in range(3):\n",
    "        for res_block in range(num_res_blocks):\n",
    "            strides = 1\n",
    "            # first layer but not first stack\n",
    "            if stack > 0 and res_block == 0:  \n",
    "                strides = 2  # downsample\n",
    "            y = resnet_layer(inputs=x,\n",
    "                             num_filters=num_filters,\n",
    "                             strides=strides)\n",
    "            y = resnet_layer(inputs=y,\n",
    "                             num_filters=num_filters,\n",
    "                             activation=None)\n",
    "            # first layer but not first stack\n",
    "            if stack > 0 and res_block == 0:  \n",
    "                # linear projection residual shortcut connection to match\n",
    "                # changed dims\n",
    "                x = resnet_layer(inputs=x,\n",
    "                                 num_filters=num_filters,\n",
    "                                 kernel_size=1,\n",
    "                                 strides=strides,\n",
    "                                 activation=None,\n",
    "                                 batch_normalization=False)\n",
    "            x = tensorflow.keras.layers.add([x, y])\n",
    "            x = Activation('relu')(x)\n",
    "        num_filters *= 2\n",
    "\n",
    "    # Add classifier on top.\n",
    "    # v1 does not use BN after last shortcut connection-ReLU\n",
    "    x = AveragePooling2D(pool_size=8)(x)\n",
    "    y = Flatten()(x)\n",
    "    outputs = Dense(num_classes,\n",
    "                    activation='softmax',\n",
    "                    kernel_initializer='he_normal')(y)\n",
    "\n",
    "    # Instantiate model.\n",
    "    model = Model(inputs=inputs, outputs=outputs)\n",
    "    return model"
   ]
  },
  {
   "cell_type": "code",
   "execution_count": 14,
   "metadata": {},
   "outputs": [],
   "source": [
    "def resnet_v2(input_shape, depth, num_classes=10):\n",
    "    \"\"\"ResNet Version 2 Model builder [b]\n",
    "\n",
    "    Stacks of (1 x 1)-(3 x 3)-(1 x 1) BN-ReLU-Conv2D or also known as\n",
    "    bottleneck layer\n",
    "    First shortcut connection per layer is 1 x 1 Conv2D.\n",
    "    Second and onwards shortcut connection is identity.\n",
    "    At the beginning of each stage, the feature map size is \n",
    "    halved (downsampled) by a convolutional layer with \n",
    "    strides=2, while the number of filter maps is\n",
    "    doubled. Within each stage, the layers have the same\n",
    "    number filters and the same filter map sizes.\n",
    "    Features maps sizes:\n",
    "    conv1  : 32x32,  16\n",
    "    stage 0: 32x32,  64\n",
    "    stage 1: 16x16, 128\n",
    "    stage 2:  8x8,  256\n",
    "\n",
    "    # Arguments\n",
    "        input_shape (tensor): shape of input image tensor\n",
    "        depth (int): number of core convolutional layers\n",
    "        num_classes (int): number of classes (CIFAR10 has 10)\n",
    "\n",
    "    # Returns\n",
    "        model (Model): Keras model instance\n",
    "    \"\"\"\n",
    "    if (depth - 2) % 9 != 0:\n",
    "        raise ValueError('depth should be 9n+2 (eg 56 or 110 in [b])')\n",
    "    # Start model definition.\n",
    "    num_filters_in = 16\n",
    "    num_res_blocks = int((depth - 2) / 9)\n",
    "\n",
    "    inputs = Input(shape=input_shape)\n",
    "    # v2 performs Conv2D with BN-ReLU on input before splitting into 2 paths\n",
    "    x = resnet_layer(inputs=inputs,\n",
    "                     num_filters=num_filters_in,\n",
    "                     conv_first=True)\n",
    "\n",
    "    # Instantiate the stack of residual units\n",
    "    for stage in range(3):\n",
    "        for res_block in range(num_res_blocks):\n",
    "            activation = 'relu'\n",
    "            batch_normalization = True\n",
    "            strides = 1\n",
    "            if stage == 0:\n",
    "                num_filters_out = num_filters_in * 4\n",
    "                if res_block == 0:  # first layer and first stage\n",
    "                    activation = None\n",
    "                    batch_normalization = False\n",
    "            else:\n",
    "                num_filters_out = num_filters_in * 2\n",
    "                if res_block == 0:  # first layer but not first stage\n",
    "                    strides = 2    # downsample\n",
    "\n",
    "            # bottleneck residual unit\n",
    "            y = resnet_layer(inputs=x,\n",
    "                             num_filters=num_filters_in,\n",
    "                             kernel_size=1,\n",
    "                             strides=strides,\n",
    "                             activation=activation,\n",
    "                             batch_normalization=batch_normalization,\n",
    "                             conv_first=False)\n",
    "            y = resnet_layer(inputs=y,\n",
    "                             num_filters=num_filters_in,\n",
    "                             conv_first=False)\n",
    "            y = resnet_layer(inputs=y,\n",
    "                             num_filters=num_filters_out,\n",
    "                             kernel_size=1,\n",
    "                             conv_first=False)\n",
    "            if res_block == 0:\n",
    "                # linear projection residual shortcut connection to match\n",
    "                # changed dims\n",
    "                x = resnet_layer(inputs=x,\n",
    "                                 num_filters=num_filters_out,\n",
    "                                 kernel_size=1,\n",
    "                                 strides=strides,\n",
    "                                 activation=None,\n",
    "                                 batch_normalization=False)\n",
    "            x = tensorflow.keras.layers.add([x, y])\n",
    "\n",
    "        num_filters_in = num_filters_out\n",
    "\n",
    "    # Add classifier on top.\n",
    "    # v2 has BN-ReLU before Pooling\n",
    "    x = BatchNormalization()(x)\n",
    "    x = Activation('relu')(x)\n",
    "    x = AveragePooling2D(pool_size=8)(x)\n",
    "    y = Flatten()(x)\n",
    "    outputs = Dense(num_classes,\n",
    "                    activation='softmax',\n",
    "                    kernel_initializer='he_normal')(y)\n",
    "\n",
    "    # Instantiate model.\n",
    "    model = Model(inputs=inputs, outputs=outputs)\n",
    "    return model"
   ]
  },
  {
   "cell_type": "code",
   "execution_count": 38,
   "metadata": {},
   "outputs": [
    {
     "data": {
      "text/plain": [
       "5"
      ]
     },
     "execution_count": 38,
     "metadata": {},
     "output_type": "execute_result"
    }
   ],
   "source": [
    "NUM_CLASSES"
   ]
  },
  {
   "cell_type": "code",
   "execution_count": 15,
   "metadata": {},
   "outputs": [],
   "source": [
    "SUBTRACT_PIXEL_MEAN = False"
   ]
  },
  {
   "cell_type": "code",
   "execution_count": null,
   "metadata": {},
   "outputs": [],
   "source": []
  },
  {
   "cell_type": "code",
   "execution_count": 16,
   "metadata": {},
   "outputs": [
    {
     "name": "stdout",
     "output_type": "stream",
     "text": [
      "x_train shape: (103680, 64, 64, 1)\n",
      "103680 train samples\n",
      "34560 test samples\n",
      "y_train shape: (103680,)\n",
      "Model: \"model\"\n",
      "__________________________________________________________________________________________________\n",
      "Layer (type)                    Output Shape         Param #     Connected to                     \n",
      "==================================================================================================\n",
      "input_1 (InputLayer)            [(None, 64, 64, 1)]  0                                            \n",
      "__________________________________________________________________________________________________\n",
      "conv2d (Conv2D)                 (None, 64, 64, 16)   160         input_1[0][0]                    \n",
      "__________________________________________________________________________________________________\n",
      "batch_normalization (BatchNorma (None, 64, 64, 16)   64          conv2d[0][0]                     \n",
      "__________________________________________________________________________________________________\n",
      "activation (Activation)         (None, 64, 64, 16)   0           batch_normalization[0][0]        \n",
      "__________________________________________________________________________________________________\n",
      "conv2d_1 (Conv2D)               (None, 64, 64, 16)   272         activation[0][0]                 \n",
      "__________________________________________________________________________________________________\n",
      "batch_normalization_1 (BatchNor (None, 64, 64, 16)   64          conv2d_1[0][0]                   \n",
      "__________________________________________________________________________________________________\n",
      "activation_1 (Activation)       (None, 64, 64, 16)   0           batch_normalization_1[0][0]      \n",
      "__________________________________________________________________________________________________\n",
      "conv2d_2 (Conv2D)               (None, 64, 64, 16)   2320        activation_1[0][0]               \n",
      "__________________________________________________________________________________________________\n",
      "batch_normalization_2 (BatchNor (None, 64, 64, 16)   64          conv2d_2[0][0]                   \n",
      "__________________________________________________________________________________________________\n",
      "activation_2 (Activation)       (None, 64, 64, 16)   0           batch_normalization_2[0][0]      \n",
      "__________________________________________________________________________________________________\n",
      "conv2d_4 (Conv2D)               (None, 64, 64, 64)   1088        activation[0][0]                 \n",
      "__________________________________________________________________________________________________\n",
      "conv2d_3 (Conv2D)               (None, 64, 64, 64)   1088        activation_2[0][0]               \n",
      "__________________________________________________________________________________________________\n",
      "add (Add)                       (None, 64, 64, 64)   0           conv2d_4[0][0]                   \n",
      "                                                                 conv2d_3[0][0]                   \n",
      "__________________________________________________________________________________________________\n",
      "batch_normalization_3 (BatchNor (None, 64, 64, 64)   256         add[0][0]                        \n",
      "__________________________________________________________________________________________________\n",
      "activation_3 (Activation)       (None, 64, 64, 64)   0           batch_normalization_3[0][0]      \n",
      "__________________________________________________________________________________________________\n",
      "conv2d_5 (Conv2D)               (None, 64, 64, 16)   1040        activation_3[0][0]               \n",
      "__________________________________________________________________________________________________\n",
      "batch_normalization_4 (BatchNor (None, 64, 64, 16)   64          conv2d_5[0][0]                   \n",
      "__________________________________________________________________________________________________\n",
      "activation_4 (Activation)       (None, 64, 64, 16)   0           batch_normalization_4[0][0]      \n",
      "__________________________________________________________________________________________________\n",
      "conv2d_6 (Conv2D)               (None, 64, 64, 16)   2320        activation_4[0][0]               \n",
      "__________________________________________________________________________________________________\n",
      "batch_normalization_5 (BatchNor (None, 64, 64, 16)   64          conv2d_6[0][0]                   \n",
      "__________________________________________________________________________________________________\n",
      "activation_5 (Activation)       (None, 64, 64, 16)   0           batch_normalization_5[0][0]      \n",
      "__________________________________________________________________________________________________\n",
      "conv2d_7 (Conv2D)               (None, 64, 64, 64)   1088        activation_5[0][0]               \n",
      "__________________________________________________________________________________________________\n",
      "add_1 (Add)                     (None, 64, 64, 64)   0           add[0][0]                        \n",
      "                                                                 conv2d_7[0][0]                   \n",
      "__________________________________________________________________________________________________\n",
      "batch_normalization_6 (BatchNor (None, 64, 64, 64)   256         add_1[0][0]                      \n",
      "__________________________________________________________________________________________________\n",
      "activation_6 (Activation)       (None, 64, 64, 64)   0           batch_normalization_6[0][0]      \n",
      "__________________________________________________________________________________________________\n",
      "conv2d_8 (Conv2D)               (None, 32, 32, 64)   4160        activation_6[0][0]               \n",
      "__________________________________________________________________________________________________\n",
      "batch_normalization_7 (BatchNor (None, 32, 32, 64)   256         conv2d_8[0][0]                   \n",
      "__________________________________________________________________________________________________\n",
      "activation_7 (Activation)       (None, 32, 32, 64)   0           batch_normalization_7[0][0]      \n",
      "__________________________________________________________________________________________________\n",
      "conv2d_9 (Conv2D)               (None, 32, 32, 64)   36928       activation_7[0][0]               \n",
      "__________________________________________________________________________________________________\n",
      "batch_normalization_8 (BatchNor (None, 32, 32, 64)   256         conv2d_9[0][0]                   \n",
      "__________________________________________________________________________________________________\n",
      "activation_8 (Activation)       (None, 32, 32, 64)   0           batch_normalization_8[0][0]      \n",
      "__________________________________________________________________________________________________\n",
      "conv2d_11 (Conv2D)              (None, 32, 32, 128)  8320        add_1[0][0]                      \n",
      "__________________________________________________________________________________________________\n",
      "conv2d_10 (Conv2D)              (None, 32, 32, 128)  8320        activation_8[0][0]               \n",
      "__________________________________________________________________________________________________\n",
      "add_2 (Add)                     (None, 32, 32, 128)  0           conv2d_11[0][0]                  \n",
      "                                                                 conv2d_10[0][0]                  \n",
      "__________________________________________________________________________________________________\n",
      "batch_normalization_9 (BatchNor (None, 32, 32, 128)  512         add_2[0][0]                      \n",
      "__________________________________________________________________________________________________\n",
      "activation_9 (Activation)       (None, 32, 32, 128)  0           batch_normalization_9[0][0]      \n",
      "__________________________________________________________________________________________________\n",
      "conv2d_12 (Conv2D)              (None, 32, 32, 64)   8256        activation_9[0][0]               \n",
      "__________________________________________________________________________________________________\n",
      "batch_normalization_10 (BatchNo (None, 32, 32, 64)   256         conv2d_12[0][0]                  \n",
      "__________________________________________________________________________________________________\n",
      "activation_10 (Activation)      (None, 32, 32, 64)   0           batch_normalization_10[0][0]     \n",
      "__________________________________________________________________________________________________\n",
      "conv2d_13 (Conv2D)              (None, 32, 32, 64)   36928       activation_10[0][0]              \n",
      "__________________________________________________________________________________________________\n",
      "batch_normalization_11 (BatchNo (None, 32, 32, 64)   256         conv2d_13[0][0]                  \n",
      "__________________________________________________________________________________________________\n",
      "activation_11 (Activation)      (None, 32, 32, 64)   0           batch_normalization_11[0][0]     \n",
      "__________________________________________________________________________________________________\n",
      "conv2d_14 (Conv2D)              (None, 32, 32, 128)  8320        activation_11[0][0]              \n",
      "__________________________________________________________________________________________________\n",
      "add_3 (Add)                     (None, 32, 32, 128)  0           add_2[0][0]                      \n",
      "                                                                 conv2d_14[0][0]                  \n",
      "__________________________________________________________________________________________________\n",
      "batch_normalization_12 (BatchNo (None, 32, 32, 128)  512         add_3[0][0]                      \n",
      "__________________________________________________________________________________________________\n",
      "activation_12 (Activation)      (None, 32, 32, 128)  0           batch_normalization_12[0][0]     \n",
      "__________________________________________________________________________________________________\n",
      "conv2d_15 (Conv2D)              (None, 16, 16, 128)  16512       activation_12[0][0]              \n",
      "__________________________________________________________________________________________________\n",
      "batch_normalization_13 (BatchNo (None, 16, 16, 128)  512         conv2d_15[0][0]                  \n",
      "__________________________________________________________________________________________________\n",
      "activation_13 (Activation)      (None, 16, 16, 128)  0           batch_normalization_13[0][0]     \n",
      "__________________________________________________________________________________________________\n",
      "conv2d_16 (Conv2D)              (None, 16, 16, 128)  147584      activation_13[0][0]              \n",
      "__________________________________________________________________________________________________\n",
      "batch_normalization_14 (BatchNo (None, 16, 16, 128)  512         conv2d_16[0][0]                  \n",
      "__________________________________________________________________________________________________\n",
      "activation_14 (Activation)      (None, 16, 16, 128)  0           batch_normalization_14[0][0]     \n",
      "__________________________________________________________________________________________________\n",
      "conv2d_18 (Conv2D)              (None, 16, 16, 256)  33024       add_3[0][0]                      \n",
      "__________________________________________________________________________________________________\n",
      "conv2d_17 (Conv2D)              (None, 16, 16, 256)  33024       activation_14[0][0]              \n",
      "__________________________________________________________________________________________________\n",
      "add_4 (Add)                     (None, 16, 16, 256)  0           conv2d_18[0][0]                  \n",
      "                                                                 conv2d_17[0][0]                  \n",
      "__________________________________________________________________________________________________\n",
      "batch_normalization_15 (BatchNo (None, 16, 16, 256)  1024        add_4[0][0]                      \n",
      "__________________________________________________________________________________________________\n",
      "activation_15 (Activation)      (None, 16, 16, 256)  0           batch_normalization_15[0][0]     \n",
      "__________________________________________________________________________________________________\n",
      "conv2d_19 (Conv2D)              (None, 16, 16, 128)  32896       activation_15[0][0]              \n",
      "__________________________________________________________________________________________________\n",
      "batch_normalization_16 (BatchNo (None, 16, 16, 128)  512         conv2d_19[0][0]                  \n",
      "__________________________________________________________________________________________________\n",
      "activation_16 (Activation)      (None, 16, 16, 128)  0           batch_normalization_16[0][0]     \n",
      "__________________________________________________________________________________________________\n",
      "conv2d_20 (Conv2D)              (None, 16, 16, 128)  147584      activation_16[0][0]              \n",
      "__________________________________________________________________________________________________\n",
      "batch_normalization_17 (BatchNo (None, 16, 16, 128)  512         conv2d_20[0][0]                  \n",
      "__________________________________________________________________________________________________\n",
      "activation_17 (Activation)      (None, 16, 16, 128)  0           batch_normalization_17[0][0]     \n",
      "__________________________________________________________________________________________________\n",
      "conv2d_21 (Conv2D)              (None, 16, 16, 256)  33024       activation_17[0][0]              \n",
      "__________________________________________________________________________________________________\n",
      "add_5 (Add)                     (None, 16, 16, 256)  0           add_4[0][0]                      \n",
      "                                                                 conv2d_21[0][0]                  \n",
      "__________________________________________________________________________________________________\n",
      "batch_normalization_18 (BatchNo (None, 16, 16, 256)  1024        add_5[0][0]                      \n",
      "__________________________________________________________________________________________________\n",
      "activation_18 (Activation)      (None, 16, 16, 256)  0           batch_normalization_18[0][0]     \n",
      "__________________________________________________________________________________________________\n",
      "average_pooling2d (AveragePooli (None, 2, 2, 256)    0           activation_18[0][0]              \n",
      "__________________________________________________________________________________________________\n",
      "flatten (Flatten)               (None, 1024)         0           average_pooling2d[0][0]          \n",
      "__________________________________________________________________________________________________\n",
      "dense (Dense)                   (None, 5)            5125        flatten[0][0]                    \n",
      "==================================================================================================\n",
      "Total params: 576,357\n",
      "Trainable params: 572,869\n",
      "Non-trainable params: 3,488\n",
      "__________________________________________________________________________________________________\n"
     ]
    }
   ],
   "source": [
    "# Input image dimensions.\n",
    "input_shape = x_train.shape[1:]\n",
    "\n",
    "# Normalize data.\n",
    "# x_train = x_train.astype('float32') / 255\n",
    "# x_test = x_test.astype('float32') / 255\n",
    "\n",
    "# If subtract pixel mean is enabled\n",
    "if SUBTRACT_PIXEL_MEAN:\n",
    "    x_train_mean = np.mean(x_train, axis=0)\n",
    "    x_train -= x_train_mean\n",
    "    x_test -= x_train_mean\n",
    "\n",
    "print('x_train shape:', x_train.shape)\n",
    "print(x_train.shape[0], 'train samples')\n",
    "print(x_test.shape[0], 'test samples')\n",
    "print('y_train shape:', y_train.shape)\n",
    "\n",
    "# Convert class vectors to binary class matrices.\n",
    "y_train = tensorflow.keras.utils.to_categorical(y_train, NUM_CLASSES)\n",
    "y_val = tensorflow.keras.utils.to_categorical(y_val, NUM_CLASSES)\n",
    "y_test = tensorflow.keras.utils.to_categorical(y_test, NUM_CLASSES)\n",
    "\n",
    "# Create the neural network\n",
    "if VERSION == 2:\n",
    "    model = resnet_v2(input_shape=input_shape, depth=DEPTH, num_classes=5)\n",
    "else:\n",
    "    model = resnet_v1(input_shape=input_shape, depth=DEPTH, num_classes=5)\n",
    "\n",
    "model.compile(loss='categorical_crossentropy',\n",
    "              optimizer=Adam(),\n",
    "              metrics=['accuracy'])\n",
    "model.summary()\n"
   ]
  },
  {
   "cell_type": "code",
   "execution_count": 17,
   "metadata": {
    "scrolled": true
   },
   "outputs": [
    {
     "name": "stdout",
     "output_type": "stream",
     "text": [
      "Not using data augmentation.\n",
      "Train on 103680 samples, validate on 34560 samples\n",
      "Epoch 1/100\n",
      "103680/103680 [==============================] - 74s 710us/sample - loss: 0.9674 - accuracy: 0.6631 - val_loss: 1.0812 - val_accuracy: 0.5847\n",
      "Epoch 2/100\n",
      "103680/103680 [==============================] - 67s 645us/sample - loss: 0.6308 - accuracy: 0.7966 - val_loss: 0.7479 - val_accuracy: 0.7404\n",
      "Epoch 3/100\n",
      "103680/103680 [==============================] - 67s 649us/sample - loss: 0.5586 - accuracy: 0.8299 - val_loss: 0.8411 - val_accuracy: 0.7067\n",
      "Epoch 4/100\n",
      "103680/103680 [==============================] - 67s 645us/sample - loss: 0.5080 - accuracy: 0.8527 - val_loss: 0.7592 - val_accuracy: 0.7494\n",
      "Epoch 5/100\n",
      "103680/103680 [==============================] - 66s 639us/sample - loss: 0.4755 - accuracy: 0.8683 - val_loss: 0.6817 - val_accuracy: 0.7982\n",
      "Epoch 6/100\n",
      "103680/103680 [==============================] - 67s 642us/sample - loss: 0.4474 - accuracy: 0.8808 - val_loss: 0.7167 - val_accuracy: 0.7818\n",
      "Epoch 7/100\n",
      "103680/103680 [==============================] - 67s 644us/sample - loss: 0.4260 - accuracy: 0.8905 - val_loss: 1.4616 - val_accuracy: 0.6429\n",
      "Epoch 8/100\n",
      "103680/103680 [==============================] - 67s 642us/sample - loss: 0.4089 - accuracy: 0.8975 - val_loss: 0.7060 - val_accuracy: 0.7953\n",
      "Epoch 9/100\n",
      "103680/103680 [==============================] - 67s 644us/sample - loss: 0.3934 - accuracy: 0.9032 - val_loss: 0.8626 - val_accuracy: 0.7500\n",
      "Epoch 10/100\n",
      "103680/103680 [==============================] - 67s 642us/sample - loss: 0.3810 - accuracy: 0.9101 - val_loss: 0.5830 - val_accuracy: 0.8390\n",
      "Epoch 11/100\n",
      "103680/103680 [==============================] - 66s 641us/sample - loss: 0.3735 - accuracy: 0.9129 - val_loss: 0.8424 - val_accuracy: 0.8279\n",
      "Epoch 12/100\n",
      "103680/103680 [==============================] - 66s 641us/sample - loss: 0.3599 - accuracy: 0.9188 - val_loss: 0.6199 - val_accuracy: 0.8253\n",
      "Epoch 13/100\n",
      "103680/103680 [==============================] - 67s 642us/sample - loss: 0.3528 - accuracy: 0.9213 - val_loss: 0.6030 - val_accuracy: 0.8320\n",
      "Epoch 14/100\n",
      "103680/103680 [==============================] - 66s 640us/sample - loss: 0.3461 - accuracy: 0.9230 - val_loss: 1.0119 - val_accuracy: 0.7393\n",
      "Epoch 15/100\n",
      "103680/103680 [==============================] - 67s 642us/sample - loss: 0.3411 - accuracy: 0.9257 - val_loss: 0.8389 - val_accuracy: 0.8111\n",
      "Epoch 16/100\n",
      "103680/103680 [==============================] - 67s 643us/sample - loss: 0.3319 - accuracy: 0.9295 - val_loss: 2.0610 - val_accuracy: 0.6290\n",
      "Epoch 17/100\n",
      "103680/103680 [==============================] - 66s 641us/sample - loss: 0.3243 - accuracy: 0.9310 - val_loss: 1.0750 - val_accuracy: 0.7322\n",
      "Epoch 18/100\n",
      "103680/103680 [==============================] - 67s 644us/sample - loss: 0.3197 - accuracy: 0.9326 - val_loss: 0.6836 - val_accuracy: 0.7843\n",
      "Epoch 19/100\n",
      "103680/103680 [==============================] - 67s 644us/sample - loss: 0.3135 - accuracy: 0.9342 - val_loss: 1.0715 - val_accuracy: 0.7446\n",
      "Epoch 20/100\n",
      "103680/103680 [==============================] - 66s 639us/sample - loss: 0.3099 - accuracy: 0.9356 - val_loss: 0.6433 - val_accuracy: 0.8372\n",
      "Epoch 21/100\n",
      "103680/103680 [==============================] - 66s 641us/sample - loss: 0.3045 - accuracy: 0.9383 - val_loss: 0.6977 - val_accuracy: 0.8355\n",
      "Epoch 22/100\n",
      "103680/103680 [==============================] - 67s 642us/sample - loss: 0.2978 - accuracy: 0.9400 - val_loss: 1.3229 - val_accuracy: 0.7466\n",
      "Epoch 23/100\n",
      "103680/103680 [==============================] - 66s 638us/sample - loss: 0.2955 - accuracy: 0.9411 - val_loss: 0.6932 - val_accuracy: 0.8275\n",
      "Epoch 24/100\n",
      "103680/103680 [==============================] - 67s 642us/sample - loss: 0.2895 - accuracy: 0.9423 - val_loss: 0.9182 - val_accuracy: 0.8065\n",
      "Epoch 25/100\n",
      "103680/103680 [==============================] - 66s 641us/sample - loss: 0.2866 - accuracy: 0.9434 - val_loss: 0.7225 - val_accuracy: 0.8288\n",
      "Epoch 26/100\n",
      "103680/103680 [==============================] - 67s 642us/sample - loss: 0.2816 - accuracy: 0.9450 - val_loss: 0.7429 - val_accuracy: 0.8183\n",
      "Epoch 27/100\n",
      "103680/103680 [==============================] - 67s 643us/sample - loss: 0.2781 - accuracy: 0.9458 - val_loss: 0.6783 - val_accuracy: 0.8388\n",
      "Epoch 28/100\n",
      "103680/103680 [==============================] - 66s 639us/sample - loss: 0.2759 - accuracy: 0.9463 - val_loss: 1.7896 - val_accuracy: 0.7287\n",
      "Epoch 29/100\n",
      "103680/103680 [==============================] - 67s 645us/sample - loss: 0.2656 - accuracy: 0.9503 - val_loss: 0.7566 - val_accuracy: 0.8349\n",
      "Epoch 30/100\n",
      "103680/103680 [==============================] - 67s 642us/sample - loss: 0.2709 - accuracy: 0.9476 - val_loss: 0.5480 - val_accuracy: 0.8647\n",
      "Epoch 31/100\n",
      "103680/103680 [==============================] - 66s 639us/sample - loss: 0.2571 - accuracy: 0.9524 - val_loss: 0.8455 - val_accuracy: 0.7922\n",
      "Epoch 32/100\n",
      "103680/103680 [==============================] - 66s 641us/sample - loss: 0.2592 - accuracy: 0.9513 - val_loss: 0.5608 - val_accuracy: 0.8569\n",
      "Epoch 33/100\n",
      "103680/103680 [==============================] - 66s 639us/sample - loss: 0.2542 - accuracy: 0.9532 - val_loss: 0.5646 - val_accuracy: 0.8600\n",
      "Epoch 34/100\n",
      "103680/103680 [==============================] - 66s 640us/sample - loss: 0.2495 - accuracy: 0.9542 - val_loss: 0.7913 - val_accuracy: 0.8295\n",
      "Epoch 35/100\n",
      "103680/103680 [==============================] - 66s 639us/sample - loss: 0.2468 - accuracy: 0.9542 - val_loss: 0.8167 - val_accuracy: 0.8034\n",
      "Epoch 36/100\n",
      "103680/103680 [==============================] - 66s 639us/sample - loss: 0.2396 - accuracy: 0.9568 - val_loss: 1.0101 - val_accuracy: 0.7706\n",
      "Epoch 37/100\n",
      "103680/103680 [==============================] - 66s 639us/sample - loss: 0.2389 - accuracy: 0.9575 - val_loss: 0.8442 - val_accuracy: 0.8001\n",
      "Epoch 38/100\n",
      "103680/103680 [==============================] - 66s 638us/sample - loss: 0.2321 - accuracy: 0.9594 - val_loss: 0.6203 - val_accuracy: 0.8514\n",
      "Epoch 39/100\n",
      "103680/103680 [==============================] - 66s 638us/sample - loss: 0.2271 - accuracy: 0.9598 - val_loss: 0.5698 - val_accuracy: 0.8569\n",
      "Epoch 40/100\n",
      "103680/103680 [==============================] - 66s 641us/sample - loss: 0.2220 - accuracy: 0.9619 - val_loss: 0.5955 - val_accuracy: 0.8581\n",
      "Epoch 41/100\n",
      "103680/103680 [==============================] - 66s 641us/sample - loss: 0.2220 - accuracy: 0.9620 - val_loss: 0.8430 - val_accuracy: 0.8168\n",
      "Epoch 42/100\n",
      "103680/103680 [==============================] - 66s 641us/sample - loss: 0.2173 - accuracy: 0.9626 - val_loss: 0.8277 - val_accuracy: 0.8352\n",
      "Epoch 43/100\n",
      "103680/103680 [==============================] - 66s 639us/sample - loss: 0.2130 - accuracy: 0.9646 - val_loss: 0.5227 - val_accuracy: 0.8639\n",
      "Epoch 44/100\n",
      "103680/103680 [==============================] - 67s 643us/sample - loss: 0.2079 - accuracy: 0.9657 - val_loss: 0.5698 - val_accuracy: 0.8546\n",
      "Epoch 45/100\n",
      "103680/103680 [==============================] - 66s 641us/sample - loss: 0.2022 - accuracy: 0.9676 - val_loss: 0.8789 - val_accuracy: 0.8027\n",
      "Epoch 46/100\n",
      "103680/103680 [==============================] - 67s 644us/sample - loss: 0.2001 - accuracy: 0.9677 - val_loss: 0.5209 - val_accuracy: 0.8707\n",
      "Epoch 47/100\n",
      "103680/103680 [==============================] - 66s 639us/sample - loss: 0.1954 - accuracy: 0.9691 - val_loss: 0.6751 - val_accuracy: 0.8453\n",
      "Epoch 48/100\n",
      "103680/103680 [==============================] - 66s 640us/sample - loss: 0.1924 - accuracy: 0.9696 - val_loss: 0.6408 - val_accuracy: 0.8404\n",
      "Epoch 49/100\n",
      "103680/103680 [==============================] - 66s 640us/sample - loss: 0.1874 - accuracy: 0.9712 - val_loss: 0.7652 - val_accuracy: 0.8300\n",
      "Epoch 50/100\n",
      "103680/103680 [==============================] - 66s 641us/sample - loss: 0.1801 - accuracy: 0.9732 - val_loss: 0.5107 - val_accuracy: 0.8823\n",
      "Epoch 51/100\n",
      "103680/103680 [==============================] - 67s 644us/sample - loss: 0.1816 - accuracy: 0.9726 - val_loss: 0.5504 - val_accuracy: 0.8760\n",
      "Epoch 52/100\n",
      "103680/103680 [==============================] - 66s 640us/sample - loss: 0.1742 - accuracy: 0.9746 - val_loss: 0.7756 - val_accuracy: 0.8412\n",
      "Epoch 53/100\n"
     ]
    },
    {
     "name": "stdout",
     "output_type": "stream",
     "text": [
      "103680/103680 [==============================] - 66s 639us/sample - loss: 0.1671 - accuracy: 0.9772 - val_loss: 0.6234 - val_accuracy: 0.8566\n",
      "Epoch 54/100\n",
      "103680/103680 [==============================] - 66s 638us/sample - loss: 0.1651 - accuracy: 0.9762 - val_loss: 0.5704 - val_accuracy: 0.8682\n",
      "Epoch 55/100\n",
      "103680/103680 [==============================] - 66s 639us/sample - loss: 0.1646 - accuracy: 0.9764 - val_loss: 0.6177 - val_accuracy: 0.8613\n",
      "Epoch 56/100\n",
      "103680/103680 [==============================] - 67s 642us/sample - loss: 0.1529 - accuracy: 0.9803 - val_loss: 0.4897 - val_accuracy: 0.8902\n",
      "Epoch 57/100\n",
      "103680/103680 [==============================] - 66s 639us/sample - loss: 0.1512 - accuracy: 0.9799 - val_loss: 1.6524 - val_accuracy: 0.8057\n",
      "Epoch 58/100\n",
      "103680/103680 [==============================] - 66s 639us/sample - loss: 0.1467 - accuracy: 0.9814 - val_loss: 0.6164 - val_accuracy: 0.8684\n",
      "Epoch 59/100\n",
      "103680/103680 [==============================] - 66s 635us/sample - loss: 0.1435 - accuracy: 0.9816 - val_loss: 0.5383 - val_accuracy: 0.8773\n",
      "Epoch 60/100\n",
      "103680/103680 [==============================] - 66s 639us/sample - loss: 0.1373 - accuracy: 0.9833 - val_loss: 0.4441 - val_accuracy: 0.8984\n",
      "Epoch 61/100\n",
      "103680/103680 [==============================] - 66s 640us/sample - loss: 0.1335 - accuracy: 0.9839 - val_loss: 0.4773 - val_accuracy: 0.9013\n",
      "Epoch 62/100\n",
      "103680/103680 [==============================] - 66s 640us/sample - loss: 0.1317 - accuracy: 0.9845 - val_loss: 0.5299 - val_accuracy: 0.8859\n",
      "Epoch 63/100\n",
      "103680/103680 [==============================] - 66s 640us/sample - loss: 0.1243 - accuracy: 0.9865 - val_loss: 0.7077 - val_accuracy: 0.8631\n",
      "Epoch 64/100\n",
      "103680/103680 [==============================] - 66s 638us/sample - loss: 0.1220 - accuracy: 0.9868 - val_loss: 0.6574 - val_accuracy: 0.8560\n",
      "Epoch 65/100\n",
      "103680/103680 [==============================] - 66s 635us/sample - loss: 0.1133 - accuracy: 0.9888 - val_loss: 0.5831 - val_accuracy: 0.8759\n",
      "Epoch 66/100\n",
      "103680/103680 [==============================] - 66s 638us/sample - loss: 0.1134 - accuracy: 0.9882 - val_loss: 0.5217 - val_accuracy: 0.8936\n",
      "Epoch 67/100\n",
      "103680/103680 [==============================] - 66s 640us/sample - loss: 0.1084 - accuracy: 0.9892 - val_loss: 0.5328 - val_accuracy: 0.8906\n",
      "Epoch 68/100\n",
      "103680/103680 [==============================] - 66s 640us/sample - loss: 0.1038 - accuracy: 0.9904 - val_loss: 0.4915 - val_accuracy: 0.8982\n",
      "Epoch 69/100\n",
      "103680/103680 [==============================] - 66s 637us/sample - loss: 0.1005 - accuracy: 0.9914 - val_loss: 0.4665 - val_accuracy: 0.9054\n",
      "Epoch 70/100\n",
      "103680/103680 [==============================] - 66s 639us/sample - loss: 0.0954 - accuracy: 0.9921 - val_loss: 0.5741 - val_accuracy: 0.8893\n",
      "Epoch 71/100\n",
      "103680/103680 [==============================] - 66s 640us/sample - loss: 0.0938 - accuracy: 0.9922 - val_loss: 0.4480 - val_accuracy: 0.9074\n",
      "Epoch 72/100\n",
      "103680/103680 [==============================] - 66s 640us/sample - loss: 0.0895 - accuracy: 0.9934 - val_loss: 0.4115 - val_accuracy: 0.9194\n",
      "Epoch 73/100\n",
      "103680/103680 [==============================] - 66s 640us/sample - loss: 0.0842 - accuracy: 0.9945 - val_loss: 0.4430 - val_accuracy: 0.9242\n",
      "Epoch 74/100\n",
      "103680/103680 [==============================] - 66s 641us/sample - loss: 0.0801 - accuracy: 0.9951 - val_loss: 0.4708 - val_accuracy: 0.9103\n",
      "Epoch 75/100\n",
      "103680/103680 [==============================] - 66s 640us/sample - loss: 0.0809 - accuracy: 0.9944 - val_loss: 0.4102 - val_accuracy: 0.9208\n",
      "Epoch 76/100\n",
      "103680/103680 [==============================] - 66s 640us/sample - loss: 0.0730 - accuracy: 0.9967 - val_loss: 0.4555 - val_accuracy: 0.9212\n",
      "Epoch 77/100\n",
      "103680/103680 [==============================] - 66s 639us/sample - loss: 0.0739 - accuracy: 0.9955 - val_loss: 0.4949 - val_accuracy: 0.9122\n",
      "Epoch 78/100\n",
      "103680/103680 [==============================] - 66s 639us/sample - loss: 0.0666 - accuracy: 0.9978 - val_loss: 0.3938 - val_accuracy: 0.9305\n",
      "Epoch 79/100\n",
      "103680/103680 [==============================] - 66s 641us/sample - loss: 0.0647 - accuracy: 0.9979 - val_loss: 0.4758 - val_accuracy: 0.9236\n",
      "Epoch 80/100\n",
      "103680/103680 [==============================] - 66s 641us/sample - loss: 0.0614 - accuracy: 0.9981 - val_loss: 0.4365 - val_accuracy: 0.9267\n",
      "Epoch 81/100\n",
      "103680/103680 [==============================] - 66s 640us/sample - loss: 0.0589 - accuracy: 0.9984 - val_loss: 0.4444 - val_accuracy: 0.9309\n",
      "Epoch 82/100\n",
      "103680/103680 [==============================] - 66s 640us/sample - loss: 0.0585 - accuracy: 0.9981 - val_loss: 0.4749 - val_accuracy: 0.9181\n",
      "Epoch 83/100\n",
      "103680/103680 [==============================] - 66s 637us/sample - loss: 0.0542 - accuracy: 0.9993 - val_loss: 0.4399 - val_accuracy: 0.9310\n",
      "Epoch 84/100\n",
      "103680/103680 [==============================] - 66s 641us/sample - loss: 0.0520 - accuracy: 0.9993 - val_loss: 0.5010 - val_accuracy: 0.9259\n",
      "Epoch 85/100\n",
      "103680/103680 [==============================] - 66s 638us/sample - loss: 0.0486 - accuracy: 0.9999 - val_loss: 0.4466 - val_accuracy: 0.9327\n",
      "Epoch 86/100\n",
      "103680/103680 [==============================] - 66s 639us/sample - loss: 0.0458 - accuracy: 1.0000 - val_loss: 0.4382 - val_accuracy: 0.9346\n",
      "Epoch 87/100\n",
      "103680/103680 [==============================] - 66s 639us/sample - loss: 0.0431 - accuracy: 1.0000 - val_loss: 0.4402 - val_accuracy: 0.9338\n",
      "Epoch 88/100\n",
      "103680/103680 [==============================] - 66s 641us/sample - loss: 0.0401 - accuracy: 1.0000 - val_loss: 0.4454 - val_accuracy: 0.9324\n",
      "Epoch 89/100\n",
      "103680/103680 [==============================] - 66s 638us/sample - loss: 0.0368 - accuracy: 1.0000 - val_loss: 0.4517 - val_accuracy: 0.9317\n",
      "Epoch 90/100\n",
      "103680/103680 [==============================] - 66s 639us/sample - loss: 0.0334 - accuracy: 1.0000 - val_loss: 0.4661 - val_accuracy: 0.9275\n",
      "Epoch 91/100\n",
      "103680/103680 [==============================] - 66s 641us/sample - loss: 0.0343 - accuracy: 0.9990 - val_loss: 0.4953 - val_accuracy: 0.9308\n",
      "Epoch 92/100\n",
      "103680/103680 [==============================] - 67s 642us/sample - loss: 0.0313 - accuracy: 0.9999 - val_loss: 0.4737 - val_accuracy: 0.9320\n",
      "Epoch 93/100\n",
      "103680/103680 [==============================] - 66s 640us/sample - loss: 0.0306 - accuracy: 1.0000 - val_loss: 0.4725 - val_accuracy: 0.9321\n",
      "Epoch 94/100\n",
      "103680/103680 [==============================] - 66s 639us/sample - loss: 0.0302 - accuracy: 1.0000 - val_loss: 0.4779 - val_accuracy: 0.9320\n",
      "Epoch 95/100\n",
      "103680/103680 [==============================] - 67s 644us/sample - loss: 0.0298 - accuracy: 1.0000 - val_loss: 0.4806 - val_accuracy: 0.9320\n",
      "Epoch 96/100\n",
      "103680/103680 [==============================] - 67s 644us/sample - loss: 0.0294 - accuracy: 1.0000 - val_loss: 0.4835 - val_accuracy: 0.9319\n",
      "Epoch 97/100\n",
      "103680/103680 [==============================] - 67s 642us/sample - loss: 0.0290 - accuracy: 1.0000 - val_loss: 0.4868 - val_accuracy: 0.9317\n",
      "Epoch 98/100\n",
      "103680/103680 [==============================] - 66s 640us/sample - loss: 0.0287 - accuracy: 1.0000 - val_loss: 0.4901 - val_accuracy: 0.9317\n",
      "Epoch 99/100\n",
      "103680/103680 [==============================] - 67s 642us/sample - loss: 0.0285 - accuracy: 1.0000 - val_loss: 0.4934 - val_accuracy: 0.9317\n",
      "Epoch 100/100\n",
      "103680/103680 [==============================] - 66s 639us/sample - loss: 0.0284 - accuracy: 1.0000 - val_loss: 0.4958 - val_accuracy: 0.9317\n"
     ]
    }
   ],
   "source": [
    "import time\n",
    "\n",
    "start_time = time.time()\n",
    "\n",
    "# Prepare callbacks for model saving and for learning rate adjustment.\n",
    "#lr_scheduler = LearningRateScheduler(lr_schedule)\n",
    "lr_scheduler = LearningRateScheduler(lr_decayed_fn)\n",
    "\n",
    "lr_reducer = ReduceLROnPlateau(factor=np.sqrt(0.1),\n",
    "                               cooldown=0,\n",
    "                               patience=5,\n",
    "                               min_lr=0.5e-6)\n",
    "\n",
    "callbacks = [lr_scheduler]\n",
    "\n",
    "# Run training, with or without data augmentation.\n",
    "if not USE_AUGMENTATION:\n",
    "    print('Not using data augmentation.')\n",
    "    model.fit(x_train, y_train,\n",
    "              batch_size=BATCH_SIZE,\n",
    "              epochs=EPOCHS,\n",
    "              validation_data=(x_val, y_val),\n",
    "              shuffle=False,\n",
    "              callbacks=callbacks)\n",
    "else:\n",
    "    print('Using real-time data augmentation.')\n",
    "    # This will do preprocessing and realtime data augmentation:\n",
    "    datagen = ImageDataGenerator(\n",
    "        # set input mean to 0 over the dataset\n",
    "        featurewise_center=False,\n",
    "        # set each sample mean to 0\n",
    "        samplewise_center=False,\n",
    "        # divide inputs by std of dataset\n",
    "        featurewise_std_normalization=False,\n",
    "        # divide each input by its std\n",
    "        samplewise_std_normalization=False,\n",
    "        # apply ZCA whitening\n",
    "        zca_whitening=False,\n",
    "        # epsilon for ZCA whitening\n",
    "        zca_epsilon=1e-06,\n",
    "        # randomly rotate images in the range (deg 0 to 180)\n",
    "        rotation_range=0,\n",
    "        # randomly shift images horizontally\n",
    "        width_shift_range=0.1,\n",
    "        # randomly shift images vertically\n",
    "        height_shift_range=0.1,\n",
    "        # set range for random shear\n",
    "        shear_range=0.,\n",
    "        # set range for random zoom\n",
    "        zoom_range=0.,\n",
    "        # set range for random channel shifts\n",
    "        channel_shift_range=0.,\n",
    "        # set mode for filling points outside the input boundaries\n",
    "        fill_mode='nearest',\n",
    "        # value used for fill_mode = \"constant\"\n",
    "        cval=0.,\n",
    "        # randomly flip images\n",
    "        horizontal_flip=True,\n",
    "        # randomly flip images\n",
    "        vertical_flip=False,\n",
    "        # set rescaling factor (applied before any other transformation)\n",
    "        rescale=None,\n",
    "        # set function that will be applied on each input\n",
    "        preprocessing_function=None,\n",
    "        # image data format, either \"channels_first\" or \"channels_last\"\n",
    "        data_format=None,\n",
    "        # fraction of images reserved for validation \n",
    "        # (strictly between 0 and 1)\n",
    "        validation_split=0.0)\n",
    "\n",
    "    # Compute quantities required for featurewise normalization\n",
    "    # (std, mean, and principal components if ZCA whitening is applied).\n",
    "    datagen.fit(x_train)\n",
    "\n",
    "    # Fit the model on the batches generated by datagen.flow().\n",
    "    model.fit_generator(datagen.flow(x_train, y_train, \n",
    "                        batch_size=BATCH_SIZE),\n",
    "                        validation_data=(x_test, y_test),\n",
    "                        epochs=EPOCHS, verbose=0, workers=1,\n",
    "                        callbacks=callbacks, \n",
    "                        use_multiprocessing=False)\n",
    "    \n",
    "elapsed_time = time.time() - start_time\n",
    "#print(\"Elapsed time: {}\".format(hms_string(elapsed_time)))"
   ]
  },
  {
   "cell_type": "code",
   "execution_count": 18,
   "metadata": {},
   "outputs": [
    {
     "name": "stdout",
     "output_type": "stream",
     "text": [
      "WARNING:tensorflow:From /home/shjzhang/miniconda3/lib/python3.7/site-packages/tensorflow_core/python/ops/resource_variable_ops.py:1786: calling BaseResourceVariable.__init__ (from tensorflow.python.ops.resource_variable_ops) with constraint is deprecated and will be removed in a future version.\n",
      "Instructions for updating:\n",
      "If using Keras pass *_constraint arguments to layers.\n",
      "INFO:tensorflow:Assets written to: model_oct24_resnet/model/assets\n"
     ]
    }
   ],
   "source": [
    "model.save(\"model_oct24_resnet/model\")"
   ]
  },
  {
   "cell_type": "code",
   "execution_count": 26,
   "metadata": {},
   "outputs": [
    {
     "data": {
      "text/plain": [
       "array([[0.0000000e+00, 0.0000000e+00, 4.5911266e-27, 2.0231423e-07,\n",
       "        9.9999976e-01]], dtype=float32)"
      ]
     },
     "execution_count": 26,
     "metadata": {},
     "output_type": "execute_result"
    }
   ],
   "source": [
    "model.predict(x_test[None,301,:,:])"
   ]
  },
  {
   "cell_type": "code",
   "execution_count": 36,
   "metadata": {},
   "outputs": [],
   "source": [
    "np.argmax?"
   ]
  },
  {
   "cell_type": "code",
   "execution_count": 35,
   "metadata": {},
   "outputs": [
    {
     "ename": "ValueError",
     "evalue": "Error when checking input: expected input_1 to have 4 dimensions, but got array with shape (1, 34560, 64, 64, 1)",
     "output_type": "error",
     "traceback": [
      "\u001b[0;31m---------------------------------------------------------------------------\u001b[0m",
      "\u001b[0;31mValueError\u001b[0m                                Traceback (most recent call last)",
      "\u001b[0;32m<ipython-input-35-4db880e866e0>\u001b[0m in \u001b[0;36m<module>\u001b[0;34m\u001b[0m\n\u001b[0;32m----> 1\u001b[0;31m \u001b[0mnp\u001b[0m\u001b[0;34m.\u001b[0m\u001b[0margmax\u001b[0m\u001b[0;34m(\u001b[0m\u001b[0mmodel\u001b[0m\u001b[0;34m.\u001b[0m\u001b[0mpredict\u001b[0m\u001b[0;34m(\u001b[0m\u001b[0mx_test\u001b[0m\u001b[0;34m[\u001b[0m\u001b[0;32mNone\u001b[0m\u001b[0;34m,\u001b[0m\u001b[0;34m:\u001b[0m\u001b[0;34m,\u001b[0m\u001b[0;34m:\u001b[0m\u001b[0;34m,\u001b[0m\u001b[0;34m:\u001b[0m\u001b[0;34m]\u001b[0m\u001b[0;34m)\u001b[0m \u001b[0;34m,\u001b[0m \u001b[0maxis\u001b[0m\u001b[0;34m=\u001b[0m\u001b[0;36m1\u001b[0m\u001b[0;34m)\u001b[0m\u001b[0;34m\u001b[0m\u001b[0;34m\u001b[0m\u001b[0m\n\u001b[0m",
      "\u001b[0;32m~/miniconda3/lib/python3.7/site-packages/tensorflow_core/python/keras/engine/training.py\u001b[0m in \u001b[0;36mpredict\u001b[0;34m(self, x, batch_size, verbose, steps, callbacks, max_queue_size, workers, use_multiprocessing)\u001b[0m\n\u001b[1;32m   1011\u001b[0m         \u001b[0mmax_queue_size\u001b[0m\u001b[0;34m=\u001b[0m\u001b[0mmax_queue_size\u001b[0m\u001b[0;34m,\u001b[0m\u001b[0;34m\u001b[0m\u001b[0;34m\u001b[0m\u001b[0m\n\u001b[1;32m   1012\u001b[0m         \u001b[0mworkers\u001b[0m\u001b[0;34m=\u001b[0m\u001b[0mworkers\u001b[0m\u001b[0;34m,\u001b[0m\u001b[0;34m\u001b[0m\u001b[0;34m\u001b[0m\u001b[0m\n\u001b[0;32m-> 1013\u001b[0;31m         use_multiprocessing=use_multiprocessing)\n\u001b[0m\u001b[1;32m   1014\u001b[0m \u001b[0;34m\u001b[0m\u001b[0m\n\u001b[1;32m   1015\u001b[0m   \u001b[0;32mdef\u001b[0m \u001b[0mreset_metrics\u001b[0m\u001b[0;34m(\u001b[0m\u001b[0mself\u001b[0m\u001b[0;34m)\u001b[0m\u001b[0;34m:\u001b[0m\u001b[0;34m\u001b[0m\u001b[0;34m\u001b[0m\u001b[0m\n",
      "\u001b[0;32m~/miniconda3/lib/python3.7/site-packages/tensorflow_core/python/keras/engine/training_v2.py\u001b[0m in \u001b[0;36mpredict\u001b[0;34m(self, model, x, batch_size, verbose, steps, callbacks, max_queue_size, workers, use_multiprocessing, **kwargs)\u001b[0m\n\u001b[1;32m    496\u001b[0m         \u001b[0mmodel\u001b[0m\u001b[0;34m,\u001b[0m \u001b[0mModeKeys\u001b[0m\u001b[0;34m.\u001b[0m\u001b[0mPREDICT\u001b[0m\u001b[0;34m,\u001b[0m \u001b[0mx\u001b[0m\u001b[0;34m=\u001b[0m\u001b[0mx\u001b[0m\u001b[0;34m,\u001b[0m \u001b[0mbatch_size\u001b[0m\u001b[0;34m=\u001b[0m\u001b[0mbatch_size\u001b[0m\u001b[0;34m,\u001b[0m \u001b[0mverbose\u001b[0m\u001b[0;34m=\u001b[0m\u001b[0mverbose\u001b[0m\u001b[0;34m,\u001b[0m\u001b[0;34m\u001b[0m\u001b[0;34m\u001b[0m\u001b[0m\n\u001b[1;32m    497\u001b[0m         \u001b[0msteps\u001b[0m\u001b[0;34m=\u001b[0m\u001b[0msteps\u001b[0m\u001b[0;34m,\u001b[0m \u001b[0mcallbacks\u001b[0m\u001b[0;34m=\u001b[0m\u001b[0mcallbacks\u001b[0m\u001b[0;34m,\u001b[0m \u001b[0mmax_queue_size\u001b[0m\u001b[0;34m=\u001b[0m\u001b[0mmax_queue_size\u001b[0m\u001b[0;34m,\u001b[0m\u001b[0;34m\u001b[0m\u001b[0;34m\u001b[0m\u001b[0m\n\u001b[0;32m--> 498\u001b[0;31m         workers=workers, use_multiprocessing=use_multiprocessing, **kwargs)\n\u001b[0m\u001b[1;32m    499\u001b[0m \u001b[0;34m\u001b[0m\u001b[0m\n\u001b[1;32m    500\u001b[0m \u001b[0;34m\u001b[0m\u001b[0m\n",
      "\u001b[0;32m~/miniconda3/lib/python3.7/site-packages/tensorflow_core/python/keras/engine/training_v2.py\u001b[0m in \u001b[0;36m_model_iteration\u001b[0;34m(self, model, mode, x, y, batch_size, verbose, sample_weight, steps, callbacks, max_queue_size, workers, use_multiprocessing, **kwargs)\u001b[0m\n\u001b[1;32m    424\u001b[0m           \u001b[0mmax_queue_size\u001b[0m\u001b[0;34m=\u001b[0m\u001b[0mmax_queue_size\u001b[0m\u001b[0;34m,\u001b[0m\u001b[0;34m\u001b[0m\u001b[0;34m\u001b[0m\u001b[0m\n\u001b[1;32m    425\u001b[0m           \u001b[0mworkers\u001b[0m\u001b[0;34m=\u001b[0m\u001b[0mworkers\u001b[0m\u001b[0;34m,\u001b[0m\u001b[0;34m\u001b[0m\u001b[0;34m\u001b[0m\u001b[0m\n\u001b[0;32m--> 426\u001b[0;31m           use_multiprocessing=use_multiprocessing)\n\u001b[0m\u001b[1;32m    427\u001b[0m       \u001b[0mtotal_samples\u001b[0m \u001b[0;34m=\u001b[0m \u001b[0m_get_total_number_of_samples\u001b[0m\u001b[0;34m(\u001b[0m\u001b[0madapter\u001b[0m\u001b[0;34m)\u001b[0m\u001b[0;34m\u001b[0m\u001b[0;34m\u001b[0m\u001b[0m\n\u001b[1;32m    428\u001b[0m       \u001b[0muse_sample\u001b[0m \u001b[0;34m=\u001b[0m \u001b[0mtotal_samples\u001b[0m \u001b[0;32mis\u001b[0m \u001b[0;32mnot\u001b[0m \u001b[0;32mNone\u001b[0m\u001b[0;34m\u001b[0m\u001b[0;34m\u001b[0m\u001b[0m\n",
      "\u001b[0;32m~/miniconda3/lib/python3.7/site-packages/tensorflow_core/python/keras/engine/training_v2.py\u001b[0m in \u001b[0;36m_process_inputs\u001b[0;34m(model, mode, x, y, batch_size, epochs, sample_weights, class_weights, shuffle, steps, distribution_strategy, max_queue_size, workers, use_multiprocessing)\u001b[0m\n\u001b[1;32m    644\u001b[0m     \u001b[0mstandardize_function\u001b[0m \u001b[0;34m=\u001b[0m \u001b[0;32mNone\u001b[0m\u001b[0;34m\u001b[0m\u001b[0;34m\u001b[0m\u001b[0m\n\u001b[1;32m    645\u001b[0m     x, y, sample_weights = standardize(\n\u001b[0;32m--> 646\u001b[0;31m         x, y, sample_weight=sample_weights)\n\u001b[0m\u001b[1;32m    647\u001b[0m   \u001b[0;32melif\u001b[0m \u001b[0madapter_cls\u001b[0m \u001b[0;32mis\u001b[0m \u001b[0mdata_adapter\u001b[0m\u001b[0;34m.\u001b[0m\u001b[0mListsOfScalarsDataAdapter\u001b[0m\u001b[0;34m:\u001b[0m\u001b[0;34m\u001b[0m\u001b[0;34m\u001b[0m\u001b[0m\n\u001b[1;32m    648\u001b[0m     \u001b[0mstandardize_function\u001b[0m \u001b[0;34m=\u001b[0m \u001b[0mstandardize\u001b[0m\u001b[0;34m\u001b[0m\u001b[0;34m\u001b[0m\u001b[0m\n",
      "\u001b[0;32m~/miniconda3/lib/python3.7/site-packages/tensorflow_core/python/keras/engine/training.py\u001b[0m in \u001b[0;36m_standardize_user_data\u001b[0;34m(self, x, y, sample_weight, class_weight, batch_size, check_steps, steps_name, steps, validation_split, shuffle, extract_tensors_from_dataset)\u001b[0m\n\u001b[1;32m   2381\u001b[0m         \u001b[0mis_dataset\u001b[0m\u001b[0;34m=\u001b[0m\u001b[0mis_dataset\u001b[0m\u001b[0;34m,\u001b[0m\u001b[0;34m\u001b[0m\u001b[0;34m\u001b[0m\u001b[0m\n\u001b[1;32m   2382\u001b[0m         \u001b[0mclass_weight\u001b[0m\u001b[0;34m=\u001b[0m\u001b[0mclass_weight\u001b[0m\u001b[0;34m,\u001b[0m\u001b[0;34m\u001b[0m\u001b[0;34m\u001b[0m\u001b[0m\n\u001b[0;32m-> 2383\u001b[0;31m         batch_size=batch_size)\n\u001b[0m\u001b[1;32m   2384\u001b[0m \u001b[0;34m\u001b[0m\u001b[0m\n\u001b[1;32m   2385\u001b[0m   def _standardize_tensors(self, x, y, sample_weight, run_eagerly, dict_inputs,\n",
      "\u001b[0;32m~/miniconda3/lib/python3.7/site-packages/tensorflow_core/python/keras/engine/training.py\u001b[0m in \u001b[0;36m_standardize_tensors\u001b[0;34m(self, x, y, sample_weight, run_eagerly, dict_inputs, is_dataset, class_weight, batch_size)\u001b[0m\n\u001b[1;32m   2408\u001b[0m           \u001b[0mfeed_input_shapes\u001b[0m\u001b[0;34m,\u001b[0m\u001b[0;34m\u001b[0m\u001b[0;34m\u001b[0m\u001b[0m\n\u001b[1;32m   2409\u001b[0m           \u001b[0mcheck_batch_axis\u001b[0m\u001b[0;34m=\u001b[0m\u001b[0;32mFalse\u001b[0m\u001b[0;34m,\u001b[0m  \u001b[0;31m# Don't enforce the batch size.\u001b[0m\u001b[0;34m\u001b[0m\u001b[0;34m\u001b[0m\u001b[0m\n\u001b[0;32m-> 2410\u001b[0;31m           exception_prefix='input')\n\u001b[0m\u001b[1;32m   2411\u001b[0m \u001b[0;34m\u001b[0m\u001b[0m\n\u001b[1;32m   2412\u001b[0m     \u001b[0;31m# Get typespecs for the input data and sanitize it if necessary.\u001b[0m\u001b[0;34m\u001b[0m\u001b[0;34m\u001b[0m\u001b[0;34m\u001b[0m\u001b[0m\n",
      "\u001b[0;32m~/miniconda3/lib/python3.7/site-packages/tensorflow_core/python/keras/engine/training_utils.py\u001b[0m in \u001b[0;36mstandardize_input_data\u001b[0;34m(data, names, shapes, check_batch_axis, exception_prefix)\u001b[0m\n\u001b[1;32m    571\u001b[0m                            \u001b[0;34m': expected '\u001b[0m \u001b[0;34m+\u001b[0m \u001b[0mnames\u001b[0m\u001b[0;34m[\u001b[0m\u001b[0mi\u001b[0m\u001b[0;34m]\u001b[0m \u001b[0;34m+\u001b[0m \u001b[0;34m' to have '\u001b[0m \u001b[0;34m+\u001b[0m\u001b[0;34m\u001b[0m\u001b[0;34m\u001b[0m\u001b[0m\n\u001b[1;32m    572\u001b[0m                            \u001b[0mstr\u001b[0m\u001b[0;34m(\u001b[0m\u001b[0mlen\u001b[0m\u001b[0;34m(\u001b[0m\u001b[0mshape\u001b[0m\u001b[0;34m)\u001b[0m\u001b[0;34m)\u001b[0m \u001b[0;34m+\u001b[0m \u001b[0;34m' dimensions, but got array '\u001b[0m\u001b[0;34m\u001b[0m\u001b[0;34m\u001b[0m\u001b[0m\n\u001b[0;32m--> 573\u001b[0;31m                            'with shape ' + str(data_shape))\n\u001b[0m\u001b[1;32m    574\u001b[0m         \u001b[0;32mif\u001b[0m \u001b[0;32mnot\u001b[0m \u001b[0mcheck_batch_axis\u001b[0m\u001b[0;34m:\u001b[0m\u001b[0;34m\u001b[0m\u001b[0;34m\u001b[0m\u001b[0m\n\u001b[1;32m    575\u001b[0m           \u001b[0mdata_shape\u001b[0m \u001b[0;34m=\u001b[0m \u001b[0mdata_shape\u001b[0m\u001b[0;34m[\u001b[0m\u001b[0;36m1\u001b[0m\u001b[0;34m:\u001b[0m\u001b[0;34m]\u001b[0m\u001b[0;34m\u001b[0m\u001b[0;34m\u001b[0m\u001b[0m\n",
      "\u001b[0;31mValueError\u001b[0m: Error when checking input: expected input_1 to have 4 dimensions, but got array with shape (1, 34560, 64, 64, 1)"
     ]
    }
   ],
   "source": [
    "np.argmax(model.predict(x_test[None,:,:,:])"
   ]
  },
  {
   "cell_type": "code",
   "execution_count": null,
   "metadata": {},
   "outputs": [],
   "source": [
    "model.predict(x_test[None,10000,:,:])"
   ]
  },
  {
   "cell_type": "code",
   "execution_count": 20,
   "metadata": {},
   "outputs": [
    {
     "name": "stdout",
     "output_type": "stream",
     "text": [
      "34560/34560 - 13s - loss: 0.5758 - accuracy: 0.9210\n"
     ]
    }
   ],
   "source": [
    "loss, accuracy_test = model.evaluate(x_test,  y_test, verbose=2)"
   ]
  },
  {
   "cell_type": "code",
   "execution_count": 58,
   "metadata": {},
   "outputs": [
    {
     "data": {
      "text/plain": [
       "array([48384, 48385, 48386, ..., 60477, 60478, 60479])"
      ]
     },
     "execution_count": 58,
     "metadata": {},
     "output_type": "execute_result"
    }
   ],
   "source": [
    "np.arange(0,12096)\n",
    "np.arange(12096,12096+36288)\n",
    "np.arange(12096+36288,12096+36288+12096)"
   ]
  },
  {
   "cell_type": "code",
   "execution_count": 59,
   "metadata": {},
   "outputs": [],
   "source": [
    "# 0.6: 0.2: 0.2\n",
    "x_train = x[np.arange(12096,12096+36288)]\n",
    "y_train = y[np.arange(12096,12096+36288)]\n",
    "\n",
    "x_val = x[np.arange(12096+36288,12096+36288+12096)]\n",
    "y_val = y[np.arange(12096+36288,12096+36288+12096)]\n",
    "\n",
    "x_test  = x[np.arange(0,12096)]\n",
    "y_test  = y[np.arange(0,12096)]"
   ]
  },
  {
   "cell_type": "code",
   "execution_count": 8,
   "metadata": {},
   "outputs": [],
   "source": [
    "model = tf.keras.models.Sequential([\n",
    "          tf.keras.layers.Conv2D(16, (3, 3), activation='relu', padding='same', input_shape=( 64, 64, 1)),\n",
    "          tf.keras.layers.Conv2D(16, (3, 3), activation='relu', padding='same'),\n",
    "          tf.keras.layers.MaxPooling2D((2, 2)),\n",
    "          tf.keras.layers.Conv2D(64, (3, 3), activation='relu', padding='same'),\n",
    "          tf.keras.layers.Conv2D(64, (3, 3), activation='relu', padding='same'),\n",
    "          tf.keras.layers.MaxPooling2D((2, 2)),\n",
    "          tf.keras.layers.Conv2D(256, (3, 3), activation='relu', padding='same'),\n",
    "          tf.keras.layers.Conv2D(256, (3, 3), activation='relu', padding='same'),\n",
    "          tf.keras.layers.MaxPooling2D((2, 2)),\n",
    "          #tf.keras.layers.Conv2D(1024, (3, 3), activation='relu', padding='same'),\n",
    "          #tf.keras.layers.Conv2D(1024, (3, 3), activation='relu', padding='same'),\n",
    "          #tf.keras.layers.MaxPooling2D((2, 2)),\n",
    "          tf.keras.layers.Flatten(),\n",
    "          tf.keras.layers.Dense(512, activation='relu'),\n",
    "          tf.keras.layers.Dropout(0.2),\n",
    "          tf.keras.layers.Dense(512, activation='relu'),\n",
    "          tf.keras.layers.Dropout(0.2),\n",
    "          tf.keras.layers.Dense(128, activation='relu'),\n",
    "          tf.keras.layers.Dropout(0.2),\n",
    "          tf.keras.layers.Dense(5)\n",
    "        ])"
   ]
  },
  {
   "cell_type": "code",
   "execution_count": 9,
   "metadata": {},
   "outputs": [],
   "source": [
    "%load_ext tensorboard\n",
    "import tensorflow as tf\n",
    "import datetime\n",
    "\n",
    "!rm -rf ./logs/ \n",
    "\n",
    "\n",
    "log_dir = \"logs/fit/\" + datetime.datetime.now().strftime(\"%Y%m%d-%H%M%S\")\n",
    "tensorboard_callback = tf.keras.callbacks.TensorBoard(log_dir=log_dir, histogram_freq=1)"
   ]
  },
  {
   "cell_type": "code",
   "execution_count": 39,
   "metadata": {},
   "outputs": [],
   "source": [
    "csv_logger = tf.keras.callbacks.CSVLogger(f'training.csv', append=True)"
   ]
  },
  {
   "cell_type": "code",
   "execution_count": 10,
   "metadata": {},
   "outputs": [
    {
     "name": "stdout",
     "output_type": "stream",
     "text": [
      "Train on 36288 samples, validate on 12096 samples\n",
      "Epoch 1/20\n",
      "36288/36288 [==============================] - 236s 7ms/sample - loss: 0.9207 - accuracy: 0.5837 - val_loss: 0.5728 - val_accuracy: 0.7536\n",
      "Epoch 2/20\n",
      "36288/36288 [==============================] - 226s 6ms/sample - loss: 0.4997 - accuracy: 0.7806 - val_loss: 0.4093 - val_accuracy: 0.8154\n",
      "Epoch 3/20\n",
      "36288/36288 [==============================] - 230s 6ms/sample - loss: 0.3685 - accuracy: 0.8368 - val_loss: 0.3828 - val_accuracy: 0.8288\n",
      "Epoch 4/20\n",
      "36288/36288 [==============================] - 230s 6ms/sample - loss: 0.3085 - accuracy: 0.8662 - val_loss: 0.2756 - val_accuracy: 0.8714\n",
      "Epoch 5/20\n",
      "36288/36288 [==============================] - 229s 6ms/sample - loss: 0.2659 - accuracy: 0.8861 - val_loss: 0.2173 - val_accuracy: 0.9110\n",
      "Epoch 6/20\n",
      "36288/36288 [==============================] - 227s 6ms/sample - loss: 0.2293 - accuracy: 0.9040 - val_loss: 0.2558 - val_accuracy: 0.8891\n",
      "Epoch 7/20\n",
      "36288/36288 [==============================] - 227s 6ms/sample - loss: 0.1901 - accuracy: 0.9215 - val_loss: 0.1828 - val_accuracy: 0.9279\n",
      "Epoch 8/20\n",
      "36288/36288 [==============================] - 225s 6ms/sample - loss: 0.1639 - accuracy: 0.9347 - val_loss: 0.1739 - val_accuracy: 0.9296\n",
      "Epoch 9/20\n",
      "36288/36288 [==============================] - 230s 6ms/sample - loss: 0.1317 - accuracy: 0.9489 - val_loss: 0.1551 - val_accuracy: 0.9360\n",
      "Epoch 10/20\n",
      "36288/36288 [==============================] - 230s 6ms/sample - loss: 0.1199 - accuracy: 0.9517 - val_loss: 0.1610 - val_accuracy: 0.9354\n",
      "Epoch 11/20\n",
      "36288/36288 [==============================] - 231s 6ms/sample - loss: 0.1059 - accuracy: 0.9586 - val_loss: 0.1724 - val_accuracy: 0.9375\n",
      "Epoch 12/20\n",
      "36288/36288 [==============================] - 229s 6ms/sample - loss: 0.0941 - accuracy: 0.9640 - val_loss: 0.1426 - val_accuracy: 0.9508\n",
      "Epoch 13/20\n",
      "36288/36288 [==============================] - 226s 6ms/sample - loss: 0.0895 - accuracy: 0.9667 - val_loss: 0.1344 - val_accuracy: 0.9495\n",
      "Epoch 14/20\n",
      "36288/36288 [==============================] - 231s 6ms/sample - loss: 0.0694 - accuracy: 0.9739 - val_loss: 0.1333 - val_accuracy: 0.9523\n",
      "Epoch 15/20\n",
      "36288/36288 [==============================] - 227s 6ms/sample - loss: 0.0640 - accuracy: 0.9769 - val_loss: 0.1961 - val_accuracy: 0.9354\n",
      "Epoch 16/20\n",
      "36288/36288 [==============================] - 233s 6ms/sample - loss: 0.0630 - accuracy: 0.9769 - val_loss: 0.1409 - val_accuracy: 0.9492\n",
      "Epoch 17/20\n",
      "36288/36288 [==============================] - 234s 6ms/sample - loss: 0.0605 - accuracy: 0.9794 - val_loss: 0.1420 - val_accuracy: 0.9519\n",
      "Epoch 18/20\n",
      "36288/36288 [==============================] - 223s 6ms/sample - loss: 0.0505 - accuracy: 0.9829 - val_loss: 0.1207 - val_accuracy: 0.9570\n",
      "Epoch 19/20\n",
      "36288/36288 [==============================] - 230s 6ms/sample - loss: 0.0548 - accuracy: 0.9810 - val_loss: 0.1308 - val_accuracy: 0.9540\n",
      "Epoch 20/20\n",
      "36288/36288 [==============================] - 226s 6ms/sample - loss: 0.0485 - accuracy: 0.9829 - val_loss: 0.1521 - val_accuracy: 0.9511\n",
      "12096/12096 - 45s - loss: 0.1439 - accuracy: 0.9530\n"
     ]
    }
   ],
   "source": [
    "loss_fn = tf.keras.losses.SparseCategoricalCrossentropy(from_logits=True)\n",
    "    \n",
    "# optimizer Adam optimization is a stochastic gradient descent method that is based on\n",
    "    #  adaptive estimation of first-order and second-order moments\n",
    "model.compile(tf.keras.optimizers.Adam(learning_rate=0.001),\n",
    "                  loss=loss_fn,\n",
    "                  metrics=['accuracy'])\n",
    "\n",
    "\n",
    "#for i in range(20):\n",
    "history = model.fit(x_train[:,:,:, None], y_train, epochs= 20, batch_size = 128,\n",
    "                   validation_data = (x_val[:,:,:, None], y_val),\n",
    "                    callbacks=[tensorboard_callback])\n",
    "accuracy_training = history.history['accuracy'][0]\n",
    "loss, accuracy_test = model.evaluate(x_test[:,:,:, None],  y_test, verbose=2)\n",
    "        \n",
    "    #accuracies[0][i] = accuracy_training\n",
    "    #accuracies[1][i] = accuracy_test"
   ]
  },
  {
   "cell_type": "code",
   "execution_count": 11,
   "metadata": {},
   "outputs": [
    {
     "name": "stdout",
     "output_type": "stream",
     "text": [
      "WARNING:tensorflow:From /data/shjzhang/anaconda3/envs/tf/lib/python3.7/site-packages/tensorflow_core/python/ops/resource_variable_ops.py:1786: calling BaseResourceVariable.__init__ (from tensorflow.python.ops.resource_variable_ops) with constraint is deprecated and will be removed in a future version.\n",
      "Instructions for updating:\n",
      "If using Keras pass *_constraint arguments to layers.\n",
      "INFO:tensorflow:Assets written to: classproject_final/assets\n"
     ]
    }
   ],
   "source": [
    "#model.save(\"classproject_final\")"
   ]
  },
  {
   "cell_type": "code",
   "execution_count": 12,
   "metadata": {},
   "outputs": [
    {
     "name": "stdout",
     "output_type": "stream",
     "text": [
      "Model: \"sequential\"\n",
      "_________________________________________________________________\n",
      "Layer (type)                 Output Shape              Param #   \n",
      "=================================================================\n",
      "conv2d (Conv2D)              (None, 64, 64, 16)        160       \n",
      "_________________________________________________________________\n",
      "conv2d_1 (Conv2D)            (None, 64, 64, 16)        2320      \n",
      "_________________________________________________________________\n",
      "max_pooling2d (MaxPooling2D) (None, 32, 32, 16)        0         \n",
      "_________________________________________________________________\n",
      "conv2d_2 (Conv2D)            (None, 32, 32, 64)        9280      \n",
      "_________________________________________________________________\n",
      "conv2d_3 (Conv2D)            (None, 32, 32, 64)        36928     \n",
      "_________________________________________________________________\n",
      "max_pooling2d_1 (MaxPooling2 (None, 16, 16, 64)        0         \n",
      "_________________________________________________________________\n",
      "conv2d_4 (Conv2D)            (None, 16, 16, 256)       147712    \n",
      "_________________________________________________________________\n",
      "conv2d_5 (Conv2D)            (None, 16, 16, 256)       590080    \n",
      "_________________________________________________________________\n",
      "max_pooling2d_2 (MaxPooling2 (None, 8, 8, 256)         0         \n",
      "_________________________________________________________________\n",
      "flatten (Flatten)            (None, 16384)             0         \n",
      "_________________________________________________________________\n",
      "dense (Dense)                (None, 512)               8389120   \n",
      "_________________________________________________________________\n",
      "dropout (Dropout)            (None, 512)               0         \n",
      "_________________________________________________________________\n",
      "dense_1 (Dense)              (None, 512)               262656    \n",
      "_________________________________________________________________\n",
      "dropout_1 (Dropout)          (None, 512)               0         \n",
      "_________________________________________________________________\n",
      "dense_2 (Dense)              (None, 128)               65664     \n",
      "_________________________________________________________________\n",
      "dropout_2 (Dropout)          (None, 128)               0         \n",
      "_________________________________________________________________\n",
      "dense_3 (Dense)              (None, 5)                 645       \n",
      "=================================================================\n",
      "Total params: 9,504,565\n",
      "Trainable params: 9,504,565\n",
      "Non-trainable params: 0\n",
      "_________________________________________________________________\n"
     ]
    }
   ],
   "source": [
    "model.summary()"
   ]
  },
  {
   "cell_type": "code",
   "execution_count": 39,
   "metadata": {},
   "outputs": [],
   "source": [
    "img_size = (64, 64)\n",
    "\n",
    "last_conv_layer_name = \"conv2d_3\"\n",
    "classifier_layer_names = [\n",
    "    \"max_pooling2d_1\",\n",
    "    \"conv2d_4\",\n",
    "    \"conv2d_5\",\n",
    "    \"max_pooling2d_2\",\n",
    "    \"flatten\",\n",
    "    \"dense\",\n",
    "    \"dropout\",\n",
    "    \"dense_1\",\n",
    "    \"dropout_1\",\n",
    "    \"dense_2\",\n",
    "    \"dropout_2\",\n",
    "    \"dense_3\"\n",
    "]\n",
    "\n",
    "from tensorflow import keras\n",
    "import matplotlib.cm as cm\n",
    "\n",
    "def make_gradcam_heatmap(\n",
    "    img_array, model, last_conv_layer_name, classifier_layer_names\n",
    "):\n",
    "    # First, we create a model that maps the input image to the activations\n",
    "    # of the last conv layer\n",
    "    last_conv_layer = model.get_layer(last_conv_layer_name)\n",
    "    last_conv_layer_model = keras.Model(model.inputs, last_conv_layer.output)\n",
    "\n",
    "    # Second, we create a model that maps the activations of the last conv\n",
    "    # layer to the final class predictions\n",
    "    classifier_input = keras.Input(shape=last_conv_layer.output.shape[1:])\n",
    "    x = classifier_input\n",
    "    for layer_name in classifier_layer_names:\n",
    "        x = model.get_layer(layer_name)(x)\n",
    "    classifier_model = keras.Model(classifier_input, x)\n",
    "\n",
    "    # Then, we compute the gradient of the top predicted class for our input image\n",
    "    # with respect to the activations of the last conv layer\n",
    "    with tf.GradientTape() as tape:\n",
    "        # Compute activations of the last conv layer and make the tape watch it\n",
    "        last_conv_layer_output = last_conv_layer_model(img_array)\n",
    "        tape.watch(last_conv_layer_output)\n",
    "        # Compute class predictions\n",
    "        preds = classifier_model(last_conv_layer_output)\n",
    "        top_pred_index = tf.argmax(preds[0])\n",
    "        top_class_channel = preds[:, top_pred_index]\n",
    "\n",
    "    # This is the gradient of the top predicted class with regard to\n",
    "    # the output feature map of the last conv layer\n",
    "    grads = tape.gradient(top_class_channel, last_conv_layer_output)\n",
    "\n",
    "    # This is a vector where each entry is the mean intensity of the gradient\n",
    "    # over a specific feature map channel\n",
    "    pooled_grads = tf.reduce_mean(grads, axis=(0, 1, 2))\n",
    "\n",
    "    # We multiply each channel in the feature map array\n",
    "    # by \"how important this channel is\" with regard to the top predicted class\n",
    "    last_conv_layer_output = last_conv_layer_output.numpy()[0]\n",
    "    pooled_grads = pooled_grads.numpy()\n",
    "    for i in range(pooled_grads.shape[-1]):\n",
    "        last_conv_layer_output[:, :, i] *= pooled_grads[i]\n",
    "\n",
    "    # The channel-wise mean of the resulting feature map\n",
    "    # is our heatmap of class activation\n",
    "    heatmap = np.mean(last_conv_layer_output, axis=-1)\n",
    "\n",
    "    # For visualization purpose, we will also normalize the heatmap between 0 & 1\n",
    "    heatmap = np.maximum(heatmap, 0) / np.max(heatmap)\n",
    "    return heatmap\n",
    "\n"
   ]
  },
  {
   "cell_type": "code",
   "execution_count": 38,
   "metadata": {},
   "outputs": [
    {
     "data": {
      "text/plain": [
       "<matplotlib.image.AxesImage at 0x7fcd7a9c4e50>"
      ]
     },
     "execution_count": 38,
     "metadata": {},
     "output_type": "execute_result"
    },
    {
     "data": {
      "image/png": "[encoded data removed]",
      "text/plain": [
       "<Figure size 432x288 with 1 Axes>"
      ]
     },
     "metadata": {
      "needs_background": "light"
     },
     "output_type": "display_data"
    }
   ],
   "source": [
    "plt.imshow(x[50,:,:], origin=\"lower\")"
   ]
  },
  {
   "cell_type": "code",
   "execution_count": 40,
   "metadata": {},
   "outputs": [
    {
     "data": {
      "image/png": "[encoded data removed]",
      "text/plain": [
       "<Figure size 288x288 with 2 Axes>"
      ]
     },
     "metadata": {
      "needs_background": "light"
     },
     "output_type": "display_data"
    }
   ],
   "source": [
    "# Generate class activation heatmap\n",
    "img_array = x[None,50,:,:,None]\n",
    "heatmap = make_gradcam_heatmap(\n",
    "    img_array, model, last_conv_layer_name, classifier_layer_names\n",
    ")\n",
    "\n",
    "# Display heatmap\n",
    "plt.matshow(heatmap, origin='lower')\n",
    "plt.colorbar()\n",
    "plt.show()"
   ]
  },
  {
   "cell_type": "code",
   "execution_count": 43,
   "metadata": {},
   "outputs": [
    {
     "data": {
      "text/plain": [
       "<matplotlib.image.AxesImage at 0x7fcd89f3f910>"
      ]
     },
     "execution_count": 43,
     "metadata": {},
     "output_type": "execute_result"
    },
    {
     "data": {
      "image/png": "[encoded data removed]",
      "text/plain": [
       "<Figure size 432x288 with 1 Axes>"
      ]
     },
     "metadata": {
      "needs_background": "light"
     },
     "output_type": "display_data"
    }
   ],
   "source": [
    "plt.imshow(x[50,:,:], origin=\"lower\")"
   ]
  },
  {
   "cell_type": "code",
   "execution_count": 46,
   "metadata": {},
   "outputs": [
    {
     "data": {
      "text/plain": [
       "<matplotlib.image.AxesImage at 0x7fcd7a471190>"
      ]
     },
     "execution_count": 46,
     "metadata": {},
     "output_type": "execute_result"
    },
    {
     "data": {
      "image/png": "[encoded data removed]",
      "text/plain": [
       "<Figure size 432x288 with 1 Axes>"
      ]
     },
     "metadata": {
      "needs_background": "light"
     },
     "output_type": "display_data"
    }
   ],
   "source": [
    "plt.contourf(heatmap, alpha=0.4, cmap='jet')\n",
    "#plt.contourf(x[8], extent=(0,10,0,10))\n",
    "plt.imshow(x[50], extent=(0,31,0,31), origin='lower', cmap='inferno')"
   ]
  },
  {
   "cell_type": "code",
   "execution_count": null,
   "metadata": {},
   "outputs": [],
   "source": [
    "0.9520 0.956, 0.9550, 0.9571"
   ]
  },
  {
   "cell_type": "code",
   "execution_count": null,
   "metadata": {},
   "outputs": [],
   "source": [
    "# 85% accuracy"
   ]
  },
  {
   "cell_type": "code",
   "execution_count": 46,
   "metadata": {},
   "outputs": [
    {
     "data": {
      "text/plain": [
       "{'loss': [0.9098645444479779,\n",
       "  0.4811548566481844,\n",
       "  0.36410202377687684,\n",
       "  0.31761732623900896,\n",
       "  0.26583536881197906,\n",
       "  0.22864882322110405,\n",
       "  0.20448362509304463,\n",
       "  0.17338305267602258,\n",
       "  0.1415990431393896,\n",
       "  0.12051051447736313,\n",
       "  0.10022930630090165,\n",
       "  0.10576096588394208,\n",
       "  0.08026488695944113,\n",
       "  0.07088539154454408,\n",
       "  0.07375776530547327,\n",
       "  0.06042526226418464,\n",
       "  0.06179379681338814,\n",
       "  0.04928304721655511,\n",
       "  0.053209557645581336,\n",
       "  0.04088998448212074],\n",
       " 'accuracy': [0.5930886,\n",
       "  0.78629297,\n",
       "  0.8404982,\n",
       "  0.8622961,\n",
       "  0.88351524,\n",
       "  0.9010141,\n",
       "  0.9149581,\n",
       "  0.9301146,\n",
       "  0.94436175,\n",
       "  0.9512787,\n",
       "  0.9621638,\n",
       "  0.95929784,\n",
       "  0.96982473,\n",
       "  0.97415125,\n",
       "  0.9734623,\n",
       "  0.9777337,\n",
       "  0.9772101,\n",
       "  0.98261136,\n",
       "  0.98098546,\n",
       "  0.9850915],\n",
       " 'val_loss': [0.5750572126378458,\n",
       "  0.3414277975206022,\n",
       "  0.3938932092416854,\n",
       "  0.26930529068386744,\n",
       "  0.2656095655506881,\n",
       "  0.2598975769111088,\n",
       "  0.2106914375194166,\n",
       "  0.20151781964869725,\n",
       "  0.1714438636782308,\n",
       "  0.15112049073453934,\n",
       "  0.156457519010892,\n",
       "  0.1360432499300235,\n",
       "  0.14218734072708578,\n",
       "  0.14530649556527062,\n",
       "  0.13154048851085087,\n",
       "  0.12307756792300592,\n",
       "  0.13285420093902203,\n",
       "  0.14778835464406898,\n",
       "  0.1525506934239751,\n",
       "  0.1481058202171452],\n",
       " 'val_accuracy': [0.76223546,\n",
       "  0.8472222,\n",
       "  0.8337467,\n",
       "  0.8768188,\n",
       "  0.8776455,\n",
       "  0.88285387,\n",
       "  0.9092262,\n",
       "  0.91906416,\n",
       "  0.92757934,\n",
       "  0.93824404,\n",
       "  0.93791336,\n",
       "  0.9489914,\n",
       "  0.9470073,\n",
       "  0.95155424,\n",
       "  0.95477843,\n",
       "  0.95213294,\n",
       "  0.95147157,\n",
       "  0.9490741,\n",
       "  0.9429563,\n",
       "  0.9522156]}"
      ]
     },
     "execution_count": 46,
     "metadata": {},
     "output_type": "execute_result"
    }
   ],
   "source": [
    "history.history"
   ]
  },
  {
   "cell_type": "code",
   "execution_count": 45,
   "metadata": {},
   "outputs": [
    {
     "data": {
      "text/plain": [
       "[0.5930886,\n",
       " 0.78629297,\n",
       " 0.8404982,\n",
       " 0.8622961,\n",
       " 0.88351524,\n",
       " 0.9010141,\n",
       " 0.9149581,\n",
       " 0.9301146,\n",
       " 0.94436175,\n",
       " 0.9512787,\n",
       " 0.9621638,\n",
       " 0.95929784,\n",
       " 0.96982473,\n",
       " 0.97415125,\n",
       " 0.9734623,\n",
       " 0.9777337,\n",
       " 0.9772101,\n",
       " 0.98261136,\n",
       " 0.98098546,\n",
       " 0.9850915]"
      ]
     },
     "execution_count": 45,
     "metadata": {},
     "output_type": "execute_result"
    }
   ],
   "source": [
    "history.history['accuracy']"
   ]
  },
  {
   "cell_type": "code",
   "execution_count": 47,
   "metadata": {},
   "outputs": [
    {
     "data": {
      "text/plain": [
       "[0.76223546,\n",
       " 0.8472222,\n",
       " 0.8337467,\n",
       " 0.8768188,\n",
       " 0.8776455,\n",
       " 0.88285387,\n",
       " 0.9092262,\n",
       " 0.91906416,\n",
       " 0.92757934,\n",
       " 0.93824404,\n",
       " 0.93791336,\n",
       " 0.9489914,\n",
       " 0.9470073,\n",
       " 0.95155424,\n",
       " 0.95477843,\n",
       " 0.95213294,\n",
       " 0.95147157,\n",
       " 0.9490741,\n",
       " 0.9429563,\n",
       " 0.9522156]"
      ]
     },
     "execution_count": 47,
     "metadata": {},
     "output_type": "execute_result"
    }
   ],
   "source": []
  },
  {
   "cell_type": "code",
   "execution_count": 56,
   "metadata": {},
   "outputs": [
    {
     "data": {
      "text/plain": [
       "<matplotlib.legend.Legend at 0x7f9374ac4f10>"
      ]
     },
     "execution_count": 56,
     "metadata": {},
     "output_type": "execute_result"
    },
    {
     "data": {
      "image/png": "[encoded data removed]",
      "text/plain": [
       "<Figure size 540x360 with 1 Axes>"
      ]
     },
     "metadata": {
      "needs_background": "light"
     },
     "output_type": "display_data"
    }
   ],
   "source": [
    "plt.rc(\"font\", size=14)\n",
    "plt.figure(figsize = (7.5,5))\n",
    "plt.plot(history.history['accuracy'], label = 'accuracy')\n",
    "plt.plot(history.history['val_accuracy'], label = 'val_accuracy')\n",
    "plt.xlabel(\"epoch\")\n",
    "plt.ylabel(\"accuracy\")\n",
    "plt.legend()"
   ]
  },
  {
   "cell_type": "code",
   "execution_count": 42,
   "metadata": {},
   "outputs": [
    {
     "name": "stdout",
     "output_type": "stream",
     "text": [
      "12096/12096 - 24s - loss: 0.1408 - accuracy: 0.9551\n"
     ]
    }
   ],
   "source": [
    "loss, accuracy_test = model.evaluate(x_test[:,:,:, None],  y_test, verbose=2)"
   ]
  },
  {
   "cell_type": "code",
   "execution_count": 66,
   "metadata": {},
   "outputs": [
    {
     "name": "stdout",
     "output_type": "stream",
     "text": [
      "12480/12480 - 37s - loss: 1.6636 - accuracy: 0.6204\n"
     ]
    }
   ],
   "source": [
    "loss, accuracy_test = model2.evaluate(x_test[:,:,:, None],  y_test, verbose=2)"
   ]
  },
  {
   "cell_type": "code",
   "execution_count": 74,
   "metadata": {},
   "outputs": [
    {
     "name": "stdout",
     "output_type": "stream",
     "text": [
      "Failed to import pydot. You must install pydot and graphviz for `pydotprint` to work.\n"
     ]
    }
   ],
   "source": [
    "tf.keras.utils.plot_model(model)"
   ]
  },
  {
   "cell_type": "code",
   "execution_count": 54,
   "metadata": {},
   "outputs": [],
   "source": [
    "model.evaluate?"
   ]
  },
  {
   "cell_type": "code",
   "execution_count": 51,
   "metadata": {},
   "outputs": [],
   "source": [
    "model.fit?"
   ]
  },
  {
   "cell_type": "code",
   "execution_count": 52,
   "metadata": {},
   "outputs": [
    {
     "name": "stdout",
     "output_type": "stream",
     "text": [
      "Train on 12000 samples\n",
      "Epoch 1/20\n",
      "12000/12000 [==============================] - 29s 2ms/sample - loss: 0.0422 - accuracy: 0.9837\n",
      "Epoch 2/20\n",
      "12000/12000 [==============================] - 27s 2ms/sample - loss: 0.0349 - accuracy: 0.9881\n",
      "Epoch 3/20\n",
      "12000/12000 [==============================] - 27s 2ms/sample - loss: 0.0272 - accuracy: 0.9914\n",
      "Epoch 4/20\n",
      "12000/12000 [==============================] - 26s 2ms/sample - loss: 0.0263 - accuracy: 0.9908\n",
      "Epoch 5/20\n",
      "12000/12000 [==============================] - 26s 2ms/sample - loss: 0.0248 - accuracy: 0.9914\n",
      "Epoch 6/20\n",
      "12000/12000 [==============================] - 28s 2ms/sample - loss: 0.0182 - accuracy: 0.9938\n",
      "Epoch 7/20\n",
      "12000/12000 [==============================] - 30s 2ms/sample - loss: 0.0241 - accuracy: 0.9905\n",
      "Epoch 8/20\n",
      "12000/12000 [==============================] - 29s 2ms/sample - loss: 0.0199 - accuracy: 0.9933\n",
      "Epoch 9/20\n",
      "12000/12000 [==============================] - 29s 2ms/sample - loss: 0.0217 - accuracy: 0.9926\n",
      "Epoch 10/20\n",
      "12000/12000 [==============================] - 29s 2ms/sample - loss: 0.0229 - accuracy: 0.9932\n",
      "Epoch 11/20\n",
      "12000/12000 [==============================] - 28s 2ms/sample - loss: 0.0219 - accuracy: 0.9926\n",
      "Epoch 12/20\n",
      "12000/12000 [==============================] - 28s 2ms/sample - loss: 0.0186 - accuracy: 0.9941\n",
      "Epoch 13/20\n",
      "12000/12000 [==============================] - 30s 2ms/sample - loss: 0.0232 - accuracy: 0.9919\n",
      "Epoch 14/20\n",
      "12000/12000 [==============================] - 29s 2ms/sample - loss: 0.0154 - accuracy: 0.9946\n",
      "Epoch 15/20\n",
      "12000/12000 [==============================] - 29s 2ms/sample - loss: 0.0262 - accuracy: 0.9908\n",
      "Epoch 16/20\n",
      "12000/12000 [==============================] - 30s 2ms/sample - loss: 0.0246 - accuracy: 0.9910\n",
      "Epoch 17/20\n",
      "12000/12000 [==============================] - 30s 2ms/sample - loss: 0.0226 - accuracy: 0.9923\n",
      "Epoch 18/20\n",
      "12000/12000 [==============================] - 30s 2ms/sample - loss: 0.0203 - accuracy: 0.9928\n",
      "Epoch 19/20\n",
      "12000/12000 [==============================] - 29s 2ms/sample - loss: 0.0203 - accuracy: 0.9938\n",
      "Epoch 20/20\n",
      "12000/12000 [==============================] - 28s 2ms/sample - loss: 0.0175 - accuracy: 0.9938\n"
     ]
    }
   ],
   "source": [
    "history = model.fit(x_train[:,:,:, None], y_train, epochs= 20, batch_size = 128)"
   ]
  },
  {
   "cell_type": "code",
   "execution_count": 131,
   "metadata": {},
   "outputs": [
    {
     "name": "stdout",
     "output_type": "stream",
     "text": [
      "520/520 - 0s - loss: 0.9763 - accuracy: 0.5827\n"
     ]
    }
   ],
   "source": [
    "loss, accuracy_test = model.evaluate(x_test[:,:,:, None],  y_test, verbose=2)"
   ]
  },
  {
   "cell_type": "code",
   "execution_count": 50,
   "metadata": {},
   "outputs": [
    {
     "name": "stdout",
     "output_type": "stream",
     "text": [
      "3120/3120 - 6s - loss: 0.6716 - accuracy: 0.8304\n"
     ]
    }
   ],
   "source": [
    "loss, accuracy_test = model.evaluate(x_test[:,:,:, None],  y_test, verbose=2)"
   ]
  },
  {
   "cell_type": "code",
   "execution_count": null,
   "metadata": {},
   "outputs": [],
   "source": [
    "# 83.3% accuracy"
   ]
  },
  {
   "cell_type": "code",
   "execution_count": 57,
   "metadata": {},
   "outputs": [
    {
     "data": {
      "text/plain": [
       "(3120, 64, 64)"
      ]
     },
     "execution_count": 57,
     "metadata": {},
     "output_type": "execute_result"
    }
   ],
   "source": [
    "x_test.shape"
   ]
  },
  {
   "cell_type": "code",
   "execution_count": 59,
   "metadata": {},
   "outputs": [
    {
     "name": "stdout",
     "output_type": "stream",
     "text": [
      "1/1 [==============================] - 0s 26ms/sample - loss: 0.0000e+00 - accuracy: 1.0000\n"
     ]
    },
    {
     "data": {
      "text/plain": [
       "[0.0, 1.0]"
      ]
     },
     "execution_count": 59,
     "metadata": {},
     "output_type": "execute_result"
    }
   ],
   "source": [
    "model.evaluate(x_test[0:1,:,:, None],  y_test[0:1])"
   ]
  },
  {
   "cell_type": "code",
   "execution_count": 53,
   "metadata": {},
   "outputs": [
    {
     "name": "stdout",
     "output_type": "stream",
     "text": [
      "3120/3120 - 6s - loss: 1.0552 - accuracy: 0.8388\n"
     ]
    }
   ],
   "source": [
    "loss, accuracy_test = model.evaluate(x_test[:,:,:, None],  y_test, verbose=2)"
   ]
  },
  {
   "cell_type": "code",
   "execution_count": 113,
   "metadata": {},
   "outputs": [
    {
     "name": "stdout",
     "output_type": "stream",
     "text": [
      "Train on 12000 samples\n",
      "Epoch 1/60\n",
      "12000/12000 [==============================] - 41s 3ms/sample - loss: 1.0536 - accuracy: 0.4837\n",
      "Epoch 2/60\n",
      "12000/12000 [==============================] - 40s 3ms/sample - loss: 1.0480 - accuracy: 0.4863\n",
      "Epoch 3/60\n",
      "12000/12000 [==============================] - 40s 3ms/sample - loss: 1.0401 - accuracy: 0.4893\n",
      "Epoch 4/60\n",
      "12000/12000 [==============================] - 40s 3ms/sample - loss: 1.0460 - accuracy: 0.4839\n",
      "Epoch 5/60\n",
      "12000/12000 [==============================] - 39s 3ms/sample - loss: 1.0425 - accuracy: 0.4844\n",
      "Epoch 6/60\n",
      "12000/12000 [==============================] - 39s 3ms/sample - loss: 1.0377 - accuracy: 0.4883\n",
      "Epoch 7/60\n",
      "12000/12000 [==============================] - 39s 3ms/sample - loss: 1.0453 - accuracy: 0.4887\n",
      "Epoch 8/60\n",
      "12000/12000 [==============================] - 38s 3ms/sample - loss: 1.0398 - accuracy: 0.4901\n",
      "Epoch 9/60\n",
      "12000/12000 [==============================] - 39s 3ms/sample - loss: 1.0356 - accuracy: 0.4887\n",
      "Epoch 10/60\n",
      "12000/12000 [==============================] - 38s 3ms/sample - loss: 1.0324 - accuracy: 0.4937\n",
      "Epoch 11/60\n",
      "12000/12000 [==============================] - 38s 3ms/sample - loss: 1.0456 - accuracy: 0.4888\n",
      "Epoch 12/60\n",
      "12000/12000 [==============================] - 40s 3ms/sample - loss: 1.0378 - accuracy: 0.4885\n",
      "Epoch 13/60\n",
      " 1728/12000 [===>..........................] - ETA: 32s - loss: 1.0362 - accuracy: 0.4882"
     ]
    },
    {
     "ename": "KeyboardInterrupt",
     "evalue": "",
     "output_type": "error",
     "traceback": [
      "\u001b[0;31m---------------------------------------------------------------------------\u001b[0m",
      "\u001b[0;31mKeyboardInterrupt\u001b[0m                         Traceback (most recent call last)",
      "\u001b[0;32m<ipython-input-113-a26ea453c84f>\u001b[0m in \u001b[0;36m<module>\u001b[0;34m\u001b[0m\n\u001b[0;32m----> 1\u001b[0;31m \u001b[0mhistory\u001b[0m \u001b[0;34m=\u001b[0m \u001b[0mmodel\u001b[0m\u001b[0;34m.\u001b[0m\u001b[0mfit\u001b[0m\u001b[0;34m(\u001b[0m\u001b[0mx_train\u001b[0m\u001b[0;34m[\u001b[0m\u001b[0;34m:\u001b[0m\u001b[0;34m,\u001b[0m\u001b[0;34m:\u001b[0m\u001b[0;34m,\u001b[0m\u001b[0;34m:\u001b[0m\u001b[0;34m,\u001b[0m \u001b[0;32mNone\u001b[0m\u001b[0;34m]\u001b[0m\u001b[0;34m,\u001b[0m \u001b[0my_train\u001b[0m\u001b[0;34m,\u001b[0m \u001b[0mepochs\u001b[0m\u001b[0;34m=\u001b[0m\u001b[0;36m60\u001b[0m\u001b[0;34m)\u001b[0m\u001b[0;34m\u001b[0m\u001b[0;34m\u001b[0m\u001b[0m\n\u001b[0m\u001b[1;32m      2\u001b[0m \u001b[0maccuracy_training\u001b[0m \u001b[0;34m=\u001b[0m \u001b[0mhistory\u001b[0m\u001b[0;34m.\u001b[0m\u001b[0mhistory\u001b[0m\u001b[0;34m[\u001b[0m\u001b[0;34m'accuracy'\u001b[0m\u001b[0;34m]\u001b[0m\u001b[0;34m[\u001b[0m\u001b[0;36m0\u001b[0m\u001b[0;34m]\u001b[0m\u001b[0;34m\u001b[0m\u001b[0;34m\u001b[0m\u001b[0m\n\u001b[1;32m      3\u001b[0m \u001b[0mloss\u001b[0m\u001b[0;34m,\u001b[0m \u001b[0maccuracy_test\u001b[0m \u001b[0;34m=\u001b[0m \u001b[0mmodel\u001b[0m\u001b[0;34m.\u001b[0m\u001b[0mevaluate\u001b[0m\u001b[0;34m(\u001b[0m\u001b[0mx_test\u001b[0m\u001b[0;34m[\u001b[0m\u001b[0;34m:\u001b[0m\u001b[0;34m,\u001b[0m\u001b[0;34m:\u001b[0m\u001b[0;34m,\u001b[0m\u001b[0;34m:\u001b[0m\u001b[0;34m,\u001b[0m \u001b[0;32mNone\u001b[0m\u001b[0;34m]\u001b[0m\u001b[0;34m,\u001b[0m  \u001b[0my_test\u001b[0m\u001b[0;34m,\u001b[0m \u001b[0mverbose\u001b[0m\u001b[0;34m=\u001b[0m\u001b[0;36m2\u001b[0m\u001b[0;34m)\u001b[0m\u001b[0;34m\u001b[0m\u001b[0;34m\u001b[0m\u001b[0m\n",
      "\u001b[0;32m/data/shjzhang/anaconda3/envs/tf/lib/python3.7/site-packages/tensorflow_core/python/keras/engine/training.py\u001b[0m in \u001b[0;36mfit\u001b[0;34m(self, x, y, batch_size, epochs, verbose, callbacks, validation_split, validation_data, shuffle, class_weight, sample_weight, initial_epoch, steps_per_epoch, validation_steps, validation_freq, max_queue_size, workers, use_multiprocessing, **kwargs)\u001b[0m\n\u001b[1;32m    817\u001b[0m         \u001b[0mmax_queue_size\u001b[0m\u001b[0;34m=\u001b[0m\u001b[0mmax_queue_size\u001b[0m\u001b[0;34m,\u001b[0m\u001b[0;34m\u001b[0m\u001b[0;34m\u001b[0m\u001b[0m\n\u001b[1;32m    818\u001b[0m         \u001b[0mworkers\u001b[0m\u001b[0;34m=\u001b[0m\u001b[0mworkers\u001b[0m\u001b[0;34m,\u001b[0m\u001b[0;34m\u001b[0m\u001b[0;34m\u001b[0m\u001b[0m\n\u001b[0;32m--> 819\u001b[0;31m         use_multiprocessing=use_multiprocessing)\n\u001b[0m\u001b[1;32m    820\u001b[0m \u001b[0;34m\u001b[0m\u001b[0m\n\u001b[1;32m    821\u001b[0m   def evaluate(self,\n",
      "\u001b[0;32m/data/shjzhang/anaconda3/envs/tf/lib/python3.7/site-packages/tensorflow_core/python/keras/engine/training_v2.py\u001b[0m in \u001b[0;36mfit\u001b[0;34m(self, model, x, y, batch_size, epochs, verbose, callbacks, validation_split, validation_data, shuffle, class_weight, sample_weight, initial_epoch, steps_per_epoch, validation_steps, validation_freq, max_queue_size, workers, use_multiprocessing, **kwargs)\u001b[0m\n\u001b[1;32m    340\u001b[0m                 \u001b[0mmode\u001b[0m\u001b[0;34m=\u001b[0m\u001b[0mModeKeys\u001b[0m\u001b[0;34m.\u001b[0m\u001b[0mTRAIN\u001b[0m\u001b[0;34m,\u001b[0m\u001b[0;34m\u001b[0m\u001b[0;34m\u001b[0m\u001b[0m\n\u001b[1;32m    341\u001b[0m                 \u001b[0mtraining_context\u001b[0m\u001b[0;34m=\u001b[0m\u001b[0mtraining_context\u001b[0m\u001b[0;34m,\u001b[0m\u001b[0;34m\u001b[0m\u001b[0;34m\u001b[0m\u001b[0m\n\u001b[0;32m--> 342\u001b[0;31m                 total_epochs=epochs)\n\u001b[0m\u001b[1;32m    343\u001b[0m             \u001b[0mcbks\u001b[0m\u001b[0;34m.\u001b[0m\u001b[0mmake_logs\u001b[0m\u001b[0;34m(\u001b[0m\u001b[0mmodel\u001b[0m\u001b[0;34m,\u001b[0m \u001b[0mepoch_logs\u001b[0m\u001b[0;34m,\u001b[0m \u001b[0mtraining_result\u001b[0m\u001b[0;34m,\u001b[0m \u001b[0mModeKeys\u001b[0m\u001b[0;34m.\u001b[0m\u001b[0mTRAIN\u001b[0m\u001b[0;34m)\u001b[0m\u001b[0;34m\u001b[0m\u001b[0;34m\u001b[0m\u001b[0m\n\u001b[1;32m    344\u001b[0m \u001b[0;34m\u001b[0m\u001b[0m\n",
      "\u001b[0;32m/data/shjzhang/anaconda3/envs/tf/lib/python3.7/site-packages/tensorflow_core/python/keras/engine/training_v2.py\u001b[0m in \u001b[0;36mrun_one_epoch\u001b[0;34m(model, iterator, execution_function, dataset_size, batch_size, strategy, steps_per_epoch, num_samples, mode, training_context, total_epochs)\u001b[0m\n\u001b[1;32m    126\u001b[0m         step=step, mode=mode, size=current_batch_size) as batch_logs:\n\u001b[1;32m    127\u001b[0m       \u001b[0;32mtry\u001b[0m\u001b[0;34m:\u001b[0m\u001b[0;34m\u001b[0m\u001b[0;34m\u001b[0m\u001b[0m\n\u001b[0;32m--> 128\u001b[0;31m         \u001b[0mbatch_outs\u001b[0m \u001b[0;34m=\u001b[0m \u001b[0mexecution_function\u001b[0m\u001b[0;34m(\u001b[0m\u001b[0miterator\u001b[0m\u001b[0;34m)\u001b[0m\u001b[0;34m\u001b[0m\u001b[0;34m\u001b[0m\u001b[0m\n\u001b[0m\u001b[1;32m    129\u001b[0m       \u001b[0;32mexcept\u001b[0m \u001b[0;34m(\u001b[0m\u001b[0mStopIteration\u001b[0m\u001b[0;34m,\u001b[0m \u001b[0merrors\u001b[0m\u001b[0;34m.\u001b[0m\u001b[0mOutOfRangeError\u001b[0m\u001b[0;34m)\u001b[0m\u001b[0;34m:\u001b[0m\u001b[0;34m\u001b[0m\u001b[0;34m\u001b[0m\u001b[0m\n\u001b[1;32m    130\u001b[0m         \u001b[0;31m# TODO(kaftan): File bug about tf function and errors.OutOfRangeError?\u001b[0m\u001b[0;34m\u001b[0m\u001b[0;34m\u001b[0m\u001b[0;34m\u001b[0m\u001b[0m\n",
      "\u001b[0;32m/data/shjzhang/anaconda3/envs/tf/lib/python3.7/site-packages/tensorflow_core/python/keras/engine/training_v2_utils.py\u001b[0m in \u001b[0;36mexecution_function\u001b[0;34m(input_fn)\u001b[0m\n\u001b[1;32m     96\u001b[0m     \u001b[0;31m# `numpy` translates Tensors to values in Eager mode.\u001b[0m\u001b[0;34m\u001b[0m\u001b[0;34m\u001b[0m\u001b[0;34m\u001b[0m\u001b[0m\n\u001b[1;32m     97\u001b[0m     return nest.map_structure(_non_none_constant_value,\n\u001b[0;32m---> 98\u001b[0;31m                               distributed_function(input_fn))\n\u001b[0m\u001b[1;32m     99\u001b[0m \u001b[0;34m\u001b[0m\u001b[0m\n\u001b[1;32m    100\u001b[0m   \u001b[0;32mreturn\u001b[0m \u001b[0mexecution_function\u001b[0m\u001b[0;34m\u001b[0m\u001b[0;34m\u001b[0m\u001b[0m\n",
      "\u001b[0;32m/data/shjzhang/anaconda3/envs/tf/lib/python3.7/site-packages/tensorflow_core/python/eager/def_function.py\u001b[0m in \u001b[0;36m__call__\u001b[0;34m(self, *args, **kwds)\u001b[0m\n\u001b[1;32m    566\u001b[0m         \u001b[0mxla_context\u001b[0m\u001b[0;34m.\u001b[0m\u001b[0mExit\u001b[0m\u001b[0;34m(\u001b[0m\u001b[0;34m)\u001b[0m\u001b[0;34m\u001b[0m\u001b[0;34m\u001b[0m\u001b[0m\n\u001b[1;32m    567\u001b[0m     \u001b[0;32melse\u001b[0m\u001b[0;34m:\u001b[0m\u001b[0;34m\u001b[0m\u001b[0;34m\u001b[0m\u001b[0m\n\u001b[0;32m--> 568\u001b[0;31m       \u001b[0mresult\u001b[0m \u001b[0;34m=\u001b[0m \u001b[0mself\u001b[0m\u001b[0;34m.\u001b[0m\u001b[0m_call\u001b[0m\u001b[0;34m(\u001b[0m\u001b[0;34m*\u001b[0m\u001b[0margs\u001b[0m\u001b[0;34m,\u001b[0m \u001b[0;34m**\u001b[0m\u001b[0mkwds\u001b[0m\u001b[0;34m)\u001b[0m\u001b[0;34m\u001b[0m\u001b[0;34m\u001b[0m\u001b[0m\n\u001b[0m\u001b[1;32m    569\u001b[0m \u001b[0;34m\u001b[0m\u001b[0m\n\u001b[1;32m    570\u001b[0m     \u001b[0;32mif\u001b[0m \u001b[0mtracing_count\u001b[0m \u001b[0;34m==\u001b[0m \u001b[0mself\u001b[0m\u001b[0;34m.\u001b[0m\u001b[0m_get_tracing_count\u001b[0m\u001b[0;34m(\u001b[0m\u001b[0;34m)\u001b[0m\u001b[0;34m:\u001b[0m\u001b[0;34m\u001b[0m\u001b[0;34m\u001b[0m\u001b[0m\n",
      "\u001b[0;32m/data/shjzhang/anaconda3/envs/tf/lib/python3.7/site-packages/tensorflow_core/python/eager/def_function.py\u001b[0m in \u001b[0;36m_call\u001b[0;34m(self, *args, **kwds)\u001b[0m\n\u001b[1;32m    597\u001b[0m       \u001b[0;31m# In this case we have created variables on the first call, so we run the\u001b[0m\u001b[0;34m\u001b[0m\u001b[0;34m\u001b[0m\u001b[0;34m\u001b[0m\u001b[0m\n\u001b[1;32m    598\u001b[0m       \u001b[0;31m# defunned version which is guaranteed to never create variables.\u001b[0m\u001b[0;34m\u001b[0m\u001b[0;34m\u001b[0m\u001b[0;34m\u001b[0m\u001b[0m\n\u001b[0;32m--> 599\u001b[0;31m       \u001b[0;32mreturn\u001b[0m \u001b[0mself\u001b[0m\u001b[0;34m.\u001b[0m\u001b[0m_stateless_fn\u001b[0m\u001b[0;34m(\u001b[0m\u001b[0;34m*\u001b[0m\u001b[0margs\u001b[0m\u001b[0;34m,\u001b[0m \u001b[0;34m**\u001b[0m\u001b[0mkwds\u001b[0m\u001b[0;34m)\u001b[0m  \u001b[0;31m# pylint: disable=not-callable\u001b[0m\u001b[0;34m\u001b[0m\u001b[0;34m\u001b[0m\u001b[0m\n\u001b[0m\u001b[1;32m    600\u001b[0m     \u001b[0;32melif\u001b[0m \u001b[0mself\u001b[0m\u001b[0;34m.\u001b[0m\u001b[0m_stateful_fn\u001b[0m \u001b[0;32mis\u001b[0m \u001b[0;32mnot\u001b[0m \u001b[0;32mNone\u001b[0m\u001b[0;34m:\u001b[0m\u001b[0;34m\u001b[0m\u001b[0;34m\u001b[0m\u001b[0m\n\u001b[1;32m    601\u001b[0m       \u001b[0;31m# Release the lock early so that multiple threads can perform the call\u001b[0m\u001b[0;34m\u001b[0m\u001b[0;34m\u001b[0m\u001b[0;34m\u001b[0m\u001b[0m\n",
      "\u001b[0;32m/data/shjzhang/anaconda3/envs/tf/lib/python3.7/site-packages/tensorflow_core/python/eager/function.py\u001b[0m in \u001b[0;36m__call__\u001b[0;34m(self, *args, **kwargs)\u001b[0m\n\u001b[1;32m   2361\u001b[0m     \u001b[0;32mwith\u001b[0m \u001b[0mself\u001b[0m\u001b[0;34m.\u001b[0m\u001b[0m_lock\u001b[0m\u001b[0;34m:\u001b[0m\u001b[0;34m\u001b[0m\u001b[0;34m\u001b[0m\u001b[0m\n\u001b[1;32m   2362\u001b[0m       \u001b[0mgraph_function\u001b[0m\u001b[0;34m,\u001b[0m \u001b[0margs\u001b[0m\u001b[0;34m,\u001b[0m \u001b[0mkwargs\u001b[0m \u001b[0;34m=\u001b[0m \u001b[0mself\u001b[0m\u001b[0;34m.\u001b[0m\u001b[0m_maybe_define_function\u001b[0m\u001b[0;34m(\u001b[0m\u001b[0margs\u001b[0m\u001b[0;34m,\u001b[0m \u001b[0mkwargs\u001b[0m\u001b[0;34m)\u001b[0m\u001b[0;34m\u001b[0m\u001b[0;34m\u001b[0m\u001b[0m\n\u001b[0;32m-> 2363\u001b[0;31m     \u001b[0;32mreturn\u001b[0m \u001b[0mgraph_function\u001b[0m\u001b[0;34m.\u001b[0m\u001b[0m_filtered_call\u001b[0m\u001b[0;34m(\u001b[0m\u001b[0margs\u001b[0m\u001b[0;34m,\u001b[0m \u001b[0mkwargs\u001b[0m\u001b[0;34m)\u001b[0m  \u001b[0;31m# pylint: disable=protected-access\u001b[0m\u001b[0;34m\u001b[0m\u001b[0;34m\u001b[0m\u001b[0m\n\u001b[0m\u001b[1;32m   2364\u001b[0m \u001b[0;34m\u001b[0m\u001b[0m\n\u001b[1;32m   2365\u001b[0m   \u001b[0;34m@\u001b[0m\u001b[0mproperty\u001b[0m\u001b[0;34m\u001b[0m\u001b[0;34m\u001b[0m\u001b[0m\n",
      "\u001b[0;32m/data/shjzhang/anaconda3/envs/tf/lib/python3.7/site-packages/tensorflow_core/python/eager/function.py\u001b[0m in \u001b[0;36m_filtered_call\u001b[0;34m(self, args, kwargs)\u001b[0m\n\u001b[1;32m   1609\u001b[0m          if isinstance(t, (ops.Tensor,\n\u001b[1;32m   1610\u001b[0m                            resource_variable_ops.BaseResourceVariable))),\n\u001b[0;32m-> 1611\u001b[0;31m         self.captured_inputs)\n\u001b[0m\u001b[1;32m   1612\u001b[0m \u001b[0;34m\u001b[0m\u001b[0m\n\u001b[1;32m   1613\u001b[0m   \u001b[0;32mdef\u001b[0m \u001b[0m_call_flat\u001b[0m\u001b[0;34m(\u001b[0m\u001b[0mself\u001b[0m\u001b[0;34m,\u001b[0m \u001b[0margs\u001b[0m\u001b[0;34m,\u001b[0m \u001b[0mcaptured_inputs\u001b[0m\u001b[0;34m,\u001b[0m \u001b[0mcancellation_manager\u001b[0m\u001b[0;34m=\u001b[0m\u001b[0;32mNone\u001b[0m\u001b[0;34m)\u001b[0m\u001b[0;34m:\u001b[0m\u001b[0;34m\u001b[0m\u001b[0;34m\u001b[0m\u001b[0m\n",
      "\u001b[0;32m/data/shjzhang/anaconda3/envs/tf/lib/python3.7/site-packages/tensorflow_core/python/eager/function.py\u001b[0m in \u001b[0;36m_call_flat\u001b[0;34m(self, args, captured_inputs, cancellation_manager)\u001b[0m\n\u001b[1;32m   1690\u001b[0m       \u001b[0;31m# No tape is watching; skip to running the function.\u001b[0m\u001b[0;34m\u001b[0m\u001b[0;34m\u001b[0m\u001b[0;34m\u001b[0m\u001b[0m\n\u001b[1;32m   1691\u001b[0m       return self._build_call_outputs(self._inference_function.call(\n\u001b[0;32m-> 1692\u001b[0;31m           ctx, args, cancellation_manager=cancellation_manager))\n\u001b[0m\u001b[1;32m   1693\u001b[0m     forward_backward = self._select_forward_and_backward_functions(\n\u001b[1;32m   1694\u001b[0m         \u001b[0margs\u001b[0m\u001b[0;34m,\u001b[0m\u001b[0;34m\u001b[0m\u001b[0;34m\u001b[0m\u001b[0m\n",
      "\u001b[0;32m/data/shjzhang/anaconda3/envs/tf/lib/python3.7/site-packages/tensorflow_core/python/eager/function.py\u001b[0m in \u001b[0;36mcall\u001b[0;34m(self, ctx, args, cancellation_manager)\u001b[0m\n\u001b[1;32m    543\u001b[0m               \u001b[0minputs\u001b[0m\u001b[0;34m=\u001b[0m\u001b[0margs\u001b[0m\u001b[0;34m,\u001b[0m\u001b[0;34m\u001b[0m\u001b[0;34m\u001b[0m\u001b[0m\n\u001b[1;32m    544\u001b[0m               \u001b[0mattrs\u001b[0m\u001b[0;34m=\u001b[0m\u001b[0;34m(\u001b[0m\u001b[0;34m\"executor_type\"\u001b[0m\u001b[0;34m,\u001b[0m \u001b[0mexecutor_type\u001b[0m\u001b[0;34m,\u001b[0m \u001b[0;34m\"config_proto\"\u001b[0m\u001b[0;34m,\u001b[0m \u001b[0mconfig\u001b[0m\u001b[0;34m)\u001b[0m\u001b[0;34m,\u001b[0m\u001b[0;34m\u001b[0m\u001b[0;34m\u001b[0m\u001b[0m\n\u001b[0;32m--> 545\u001b[0;31m               ctx=ctx)\n\u001b[0m\u001b[1;32m    546\u001b[0m         \u001b[0;32melse\u001b[0m\u001b[0;34m:\u001b[0m\u001b[0;34m\u001b[0m\u001b[0;34m\u001b[0m\u001b[0m\n\u001b[1;32m    547\u001b[0m           outputs = execute.execute_with_cancellation(\n",
      "\u001b[0;32m/data/shjzhang/anaconda3/envs/tf/lib/python3.7/site-packages/tensorflow_core/python/eager/execute.py\u001b[0m in \u001b[0;36mquick_execute\u001b[0;34m(op_name, num_outputs, inputs, attrs, ctx, name)\u001b[0m\n\u001b[1;32m     59\u001b[0m     tensors = pywrap_tensorflow.TFE_Py_Execute(ctx._handle, device_name,\n\u001b[1;32m     60\u001b[0m                                                \u001b[0mop_name\u001b[0m\u001b[0;34m,\u001b[0m \u001b[0minputs\u001b[0m\u001b[0;34m,\u001b[0m \u001b[0mattrs\u001b[0m\u001b[0;34m,\u001b[0m\u001b[0;34m\u001b[0m\u001b[0;34m\u001b[0m\u001b[0m\n\u001b[0;32m---> 61\u001b[0;31m                                                num_outputs)\n\u001b[0m\u001b[1;32m     62\u001b[0m   \u001b[0;32mexcept\u001b[0m \u001b[0mcore\u001b[0m\u001b[0;34m.\u001b[0m\u001b[0m_NotOkStatusException\u001b[0m \u001b[0;32mas\u001b[0m \u001b[0me\u001b[0m\u001b[0;34m:\u001b[0m\u001b[0;34m\u001b[0m\u001b[0;34m\u001b[0m\u001b[0m\n\u001b[1;32m     63\u001b[0m     \u001b[0;32mif\u001b[0m \u001b[0mname\u001b[0m \u001b[0;32mis\u001b[0m \u001b[0;32mnot\u001b[0m \u001b[0;32mNone\u001b[0m\u001b[0;34m:\u001b[0m\u001b[0;34m\u001b[0m\u001b[0;34m\u001b[0m\u001b[0m\n",
      "\u001b[0;31mKeyboardInterrupt\u001b[0m: "
     ]
    }
   ],
   "source": [
    "history = model.fit(x_train[:,:,:, None], y_train, epochs=60)\n",
    "accuracy_training = history.history['accuracy'][0]\n",
    "loss, accuracy_test = model.evaluate(x_test[:,:,:, None],  y_test, verbose=2)"
   ]
  },
  {
   "cell_type": "code",
   "execution_count": 114,
   "metadata": {},
   "outputs": [
    {
     "name": "stdout",
     "output_type": "stream",
     "text": [
      "3120/3120 - 1s - loss: 1.7407 - accuracy: 0.3904\n"
     ]
    }
   ],
   "source": [
    "loss, accuracy_test = model.evaluate(x_test[:,:,:, None],  y_test, verbose=2)"
   ]
  },
  {
   "cell_type": "code",
   "execution_count": 18,
   "metadata": {},
   "outputs": [],
   "source": []
  },
  {
   "cell_type": "code",
   "execution_count": 19,
   "metadata": {},
   "outputs": [
    {
     "data": {
      "text/plain": [
       "array([[  0.8798562,   6.150076 ,  -7.3662295,  -1.7914515, -16.425116 ]],\n",
       "      dtype=float32)"
      ]
     },
     "execution_count": 19,
     "metadata": {},
     "output_type": "execute_result"
    }
   ],
   "source": [
    "GW_Lup = np.load(\"GW_Lup.npy\")\n",
    "model.predict(GW_Lup[None,:,:,None])\n",
    "# 33 Earth mass\n",
    "# 20 M_Earth/M_star Best model"
   ]
  },
  {
   "cell_type": "code",
   "execution_count": 25,
   "metadata": {},
   "outputs": [
    {
     "data": {
      "text/plain": [
       "array([[-18.81997  ,  -0.687979 ,  15.172089 ,   6.9862494, -15.107887 ]],\n",
       "      dtype=float32)"
      ]
     },
     "execution_count": 25,
     "metadata": {},
     "output_type": "execute_result"
    }
   ],
   "source": [
    "GW_Lup = np.load(\"Elias_24.npy\")\n",
    "model.predict(GW_Lup[None,:,:,None])\n",
    "# 0.3 M_J\n",
    "# 0.2 M_J/M_star Best model"
   ]
  },
  {
   "cell_type": "code",
   "execution_count": 26,
   "metadata": {},
   "outputs": [
    {
     "data": {
      "text/plain": [
       "array([[  9.781311  ,  -0.18202868, -13.764916  , -16.02791   ,\n",
       "        -35.350914  ]], dtype=float32)"
      ]
     },
     "execution_count": 26,
     "metadata": {},
     "output_type": "execute_result"
    }
   ],
   "source": [
    "GW_Lup = np.load(\"GW_Lup_incl.npy\")\n",
    "model.predict(GW_Lup[None,:,:,None])\n",
    "# 11 Earth mass\n",
    "# 20 M_Earth/M_star Best model"
   ]
  },
  {
   "cell_type": "code",
   "execution_count": 27,
   "metadata": {},
   "outputs": [
    {
     "data": {
      "text/plain": [
       "array([[-12.308101 ,  -1.6863636,   8.021324 ,   4.4840193,  -4.4777646]],\n",
       "      dtype=float32)"
      ]
     },
     "execution_count": 27,
     "metadata": {},
     "output_type": "execute_result"
    }
   ],
   "source": [
    "GW_Lup = np.load(\"AS_209.npy\")\n",
    "model.predict(GW_Lup[None,:,:,None])\n",
    "# 0.3 M_J\n",
    "# 0.3 M_J/M_star Best model"
   ]
  },
  {
   "cell_type": "code",
   "execution_count": 29,
   "metadata": {},
   "outputs": [
    {
     "data": {
      "text/plain": [
       "7.662650602409639"
      ]
     },
     "execution_count": 29,
     "metadata": {},
     "output_type": "execute_result"
    }
   ],
   "source": [
    "0.02 / 0.83 * 318"
   ]
  },
  {
   "cell_type": "code",
   "execution_count": 28,
   "metadata": {},
   "outputs": [
    {
     "data": {
      "text/plain": [
       "array([[ -2.328901 ,  11.302073 ,  -5.5335155,  -3.1297548, -24.249933 ]],\n",
       "      dtype=float32)"
      ]
     },
     "execution_count": 28,
     "metadata": {},
     "output_type": "execute_result"
    }
   ],
   "source": [
    "GW_Lup = np.load(\"Sz_114.npy\")\n",
    "model.predict(GW_Lup[None,:,:,None])\n",
    "# 30 Earth # might be overpredict\n",
    "# 8 M_E/M_star Best model"
   ]
  },
  {
   "cell_type": "code",
   "execution_count": null,
   "metadata": {},
   "outputs": [],
   "source": [
    "# but my previous has the same issue "
   ]
  },
  {
   "cell_type": "code",
   "execution_count": 24,
   "metadata": {},
   "outputs": [],
   "source": [
    "rescaled = transform.rescale(GW_Lup, (1/np.cos(60*np.pi/180.),1), preserve_range = False, clip=1)"
   ]
  },
  {
   "cell_type": "code",
   "execution_count": 179,
   "metadata": {},
   "outputs": [
    {
     "data": {
      "text/plain": [
       "(128, 64)"
      ]
     },
     "execution_count": 179,
     "metadata": {},
     "output_type": "execute_result"
    }
   ],
   "source": [
    "rescaled = transform.rescale(GW_Lup, (1/np.cos(60*np.pi/180.),1), preserve_range = False, clip=1)\n",
    "new_dim = np.max(rescaled.shape)\n",
    "rescaled2 = np.zeros((new_dim, new_dim), dtype=\"float32\")\n",
    "new_start = (new_dim - 64)//2\n",
    "rescaled2[:,new_start: new_dim-new_start] = rescaled"
   ]
  },
  {
   "cell_type": "code",
   "execution_count": 184,
   "metadata": {},
   "outputs": [],
   "source": []
  },
  {
   "cell_type": "code",
   "execution_count": 188,
   "metadata": {},
   "outputs": [],
   "source": []
  },
  {
   "cell_type": "code",
   "execution_count": 191,
   "metadata": {},
   "outputs": [],
   "source": []
  },
  {
   "cell_type": "code",
   "execution_count": 192,
   "metadata": {},
   "outputs": [
    {
     "data": {
      "text/plain": [
       "<matplotlib.image.AxesImage at 0x7f24774be810>"
      ]
     },
     "execution_count": 192,
     "metadata": {},
     "output_type": "execute_result"
    },
    {
     "data": {
      "image/png": "[encoded data removed]",
      "text/plain": [
       "<Figure size 432x288 with 1 Axes>"
      ]
     },
     "metadata": {
      "needs_background": "light"
     },
     "output_type": "display_data"
    }
   ],
   "source": [
    "plt.imshow(rescaled2)"
   ]
  },
  {
   "cell_type": "code",
   "execution_count": 196,
   "metadata": {},
   "outputs": [],
   "source": [
    "rotated = transform.rotate(rescaled2, 45)"
   ]
  },
  {
   "cell_type": "code",
   "execution_count": 197,
   "metadata": {},
   "outputs": [
    {
     "data": {
      "text/plain": [
       "<matplotlib.image.AxesImage at 0x7f247740cc50>"
      ]
     },
     "execution_count": 197,
     "metadata": {},
     "output_type": "execute_result"
    },
    {
     "data": {
      "image/png": "[encoded data removed]",
      "text/plain": [
       "<Figure size 432x288 with 1 Axes>"
      ]
     },
     "metadata": {
      "needs_background": "light"
     },
     "output_type": "display_data"
    }
   ],
   "source": [
    "plt.imshow(rotated)"
   ]
  },
  {
   "cell_type": "code",
   "execution_count": 170,
   "metadata": {},
   "outputs": [],
   "source": [
    "transform.resize?"
   ]
  },
  {
   "cell_type": "code",
   "execution_count": 167,
   "metadata": {},
   "outputs": [],
   "source": [
    "resized = transform.resize(rescaled, output_shape = (64, 64))"
   ]
  },
  {
   "cell_type": "code",
   "execution_count": 171,
   "metadata": {},
   "outputs": [],
   "source": [
    "transform.warp?"
   ]
  },
  {
   "cell_type": "code",
   "execution_count": 176,
   "metadata": {},
   "outputs": [
    {
     "ename": "TypeError",
     "evalue": "'builtin_function_or_method' object is not subscriptable",
     "output_type": "error",
     "traceback": [
      "\u001b[0;31m---------------------------------------------------------------------------\u001b[0m",
      "\u001b[0;31mTypeError\u001b[0m                                 Traceback (most recent call last)",
      "\u001b[0;32m<ipython-input-176-140f5567c335>\u001b[0m in \u001b[0;36m<module>\u001b[0;34m\u001b[0m\n\u001b[1;32m      4\u001b[0m (np.array[[np.cos(theta), -np.sin(theta), 0],\n\u001b[1;32m      5\u001b[0m  \u001b[0;34m[\u001b[0m\u001b[0mnp\u001b[0m\u001b[0;34m.\u001b[0m\u001b[0msin\u001b[0m\u001b[0;34m(\u001b[0m\u001b[0mtheta\u001b[0m\u001b[0;34m)\u001b[0m\u001b[0;34m,\u001b[0m  \u001b[0mnp\u001b[0m\u001b[0;34m.\u001b[0m\u001b[0mcos\u001b[0m\u001b[0;34m(\u001b[0m\u001b[0mtheta\u001b[0m\u001b[0;34m)\u001b[0m\u001b[0;34m,\u001b[0m \u001b[0;36m0\u001b[0m\u001b[0;34m]\u001b[0m\u001b[0;34m,\u001b[0m\u001b[0;34m\u001b[0m\u001b[0;34m\u001b[0m\u001b[0m\n\u001b[0;32m----> 6\u001b[0;31m  [0,            0,        1]])\n\u001b[0m",
      "\u001b[0;31mTypeError\u001b[0m: 'builtin_function_or_method' object is not subscriptable"
     ]
    }
   ],
   "source": [
    "theta = np.pi/4.\n",
    "transform.ProjectiveTransform?\n",
    "    \n",
    "(np.array[[np.cos(theta), -np.sin(theta), 0],\n",
    " [np.sin(theta),  np.cos(theta), 0],\n",
    " [0,            0,        1]])"
   ]
  },
  {
   "cell_type": "code",
   "execution_count": 168,
   "metadata": {},
   "outputs": [
    {
     "data": {
      "text/plain": [
       "<matplotlib.image.AxesImage at 0x7f24776a8b10>"
      ]
     },
     "execution_count": 168,
     "metadata": {},
     "output_type": "execute_result"
    },
    {
     "data": {
      "image/png": "[encoded data removed]",
      "text/plain": [
       "<Figure size 432x288 with 1 Axes>"
      ]
     },
     "metadata": {
      "needs_background": "light"
     },
     "output_type": "display_data"
    }
   ],
   "source": [
    "plt.imshow(resized)"
   ]
  },
  {
   "cell_type": "code",
   "execution_count": 157,
   "metadata": {},
   "outputs": [
    {
     "data": {
      "text/plain": [
       "(128, 64)"
      ]
     },
     "execution_count": 157,
     "metadata": {},
     "output_type": "execute_result"
    }
   ],
   "source": [
    "rescaled.shape"
   ]
  },
  {
   "cell_type": "code",
   "execution_count": 158,
   "metadata": {},
   "outputs": [
    {
     "data": {
      "text/plain": [
       "<matplotlib.image.AxesImage at 0x7f24776d8290>"
      ]
     },
     "execution_count": 158,
     "metadata": {},
     "output_type": "execute_result"
    },
    {
     "data": {
      "image/png": "[encoded data removed]",
      "text/plain": [
       "<Figure size 432x288 with 1 Axes>"
      ]
     },
     "metadata": {
      "needs_background": "light"
     },
     "output_type": "display_data"
    }
   ],
   "source": [
    "plt.imshow(rescaled)\n"
   ]
  },
  {
   "cell_type": "code",
   "execution_count": 162,
   "metadata": {},
   "outputs": [],
   "source": [
    "rotated = transform.rotate(rescaled, 45)"
   ]
  },
  {
   "cell_type": "code",
   "execution_count": 163,
   "metadata": {},
   "outputs": [
    {
     "data": {
      "text/plain": [
       "<matplotlib.image.AxesImage at 0x7f2477658e50>"
      ]
     },
     "execution_count": 163,
     "metadata": {},
     "output_type": "execute_result"
    },
    {
     "data": {
      "image/png": "[encoded data removed]",
      "text/plain": [
       "<Figure size 432x288 with 1 Axes>"
      ]
     },
     "metadata": {
      "needs_background": "light"
     },
     "output_type": "display_data"
    }
   ],
   "source": [
    "plt.imshow(rotated)"
   ]
  },
  {
   "cell_type": "code",
   "execution_count": 21,
   "metadata": {},
   "outputs": [
    {
     "ename": "AttributeError",
     "evalue": "'Model' object has no attribute 'predict_classes'",
     "output_type": "error",
     "traceback": [
      "\u001b[0;31m---------------------------------------------------------------------------\u001b[0m",
      "\u001b[0;31mAttributeError\u001b[0m                            Traceback (most recent call last)",
      "\u001b[0;32m<ipython-input-21-a77640da9d14>\u001b[0m in \u001b[0;36m<module>\u001b[0;34m\u001b[0m\n\u001b[0;32m----> 1\u001b[0;31m \u001b[0my_predict\u001b[0m \u001b[0;34m=\u001b[0m \u001b[0mmodel\u001b[0m\u001b[0;34m.\u001b[0m\u001b[0mpredict_classes\u001b[0m\u001b[0;34m(\u001b[0m\u001b[0mx_test\u001b[0m\u001b[0;34m[\u001b[0m\u001b[0;34m:\u001b[0m\u001b[0;34m,\u001b[0m\u001b[0;34m:\u001b[0m\u001b[0;34m,\u001b[0m\u001b[0;34m:\u001b[0m\u001b[0;34m,\u001b[0m\u001b[0;32mNone\u001b[0m\u001b[0;34m]\u001b[0m\u001b[0;34m)\u001b[0m\u001b[0;34m\u001b[0m\u001b[0;34m\u001b[0m\u001b[0m\n\u001b[0m",
      "\u001b[0;31mAttributeError\u001b[0m: 'Model' object has no attribute 'predict_classes'"
     ]
    }
   ],
   "source": [
    "y_predict = model.predict_classes(x_test[:,:,:,None])"
   ]
  },
  {
   "cell_type": "code",
   "execution_count": 22,
   "metadata": {},
   "outputs": [
    {
     "data": {
      "text/plain": [
       "Text(0, 0.5, 'ground truth')"
      ]
     },
     "execution_count": 22,
     "metadata": {},
     "output_type": "execute_result"
    },
    {
     "data": {
      "image/png": "[encoded data removed]",
      "text/plain": [
       "<Figure size 540x360 with 1 Axes>"
      ]
     },
     "metadata": {
      "needs_background": "light"
     },
     "output_type": "display_data"
    }
   ],
   "source": [
    "confusion_mat = np.zeros((5,5), dtype='int')\n",
    "for i in range(5):\n",
    "    for j in range(5):\n",
    "        confusion_mat[i][j] = np.sum((y_test == i) & (y_predict == j))\n",
    "        \n",
    "plt.rc(\"font\", size=14)\n",
    "plt.figure(figsize=(7.5,5))\n",
    "plt.imshow(confusion_mat, cmap='Blues')\n",
    "for i in range(5):\n",
    "    for j in range(5):\n",
    "        plt.text(j, i, str(confusion_mat[i][j]), color = 'C9',\n",
    "                 horizontalalignment='center', verticalalignment='center')\n",
    "plt.xlabel(\"prediction\")\n",
    "plt.ylabel(\"ground truth\")"
   ]
  },
  {
   "cell_type": "code",
   "execution_count": 89,
   "metadata": {},
   "outputs": [],
   "source": [
    "confusion_mat = np.zeros((5,5), dtype='int')"
   ]
  },
  {
   "cell_type": "code",
   "execution_count": 90,
   "metadata": {},
   "outputs": [],
   "source": [
    "for i in range(5):\n",
    "    for j in range(5):\n",
    "        confusion_mat[i][j] = np.sum((y_test == i) & (y_predict == j))"
   ]
  },
  {
   "cell_type": "code",
   "execution_count": 131,
   "metadata": {},
   "outputs": [
    {
     "data": {
      "text/plain": [
       "Text(0, 0.5, 'ground truth')"
      ]
     },
     "execution_count": 131,
     "metadata": {},
     "output_type": "execute_result"
    },
    {
     "data": {
      "image/png": "[encoded data removed]",
      "text/plain": [
       "<Figure size 540x360 with 1 Axes>"
      ]
     },
     "metadata": {
      "needs_background": "light"
     },
     "output_type": "display_data"
    }
   ],
   "source": [
    "plt.rc(\"font\", size=14)\n",
    "plt.figure(figsize=(7.5,5))\n",
    "plt.imshow(confusion_mat, cmap='Blues')\n",
    "for i in range(5):\n",
    "    for j in range(5):\n",
    "        plt.text(j, i, str(confusion_mat[i][j]), color = 'C9',\n",
    "                 horizontalalignment='center', verticalalignment='center')\n",
    "plt.xlabel(\"prediction\")\n",
    "plt.ylabel(\"ground truth\")"
   ]
  },
  {
   "cell_type": "code",
   "execution_count": 65,
   "metadata": {},
   "outputs": [
    {
     "data": {
      "text/plain": [
       "array([4, 1, 4, ..., 2, 0, 3])"
      ]
     },
     "execution_count": 65,
     "metadata": {},
     "output_type": "execute_result"
    }
   ],
   "source": [
    "y_predict"
   ]
  },
  {
   "cell_type": "code",
   "execution_count": 62,
   "metadata": {},
   "outputs": [
    {
     "data": {
      "text/plain": [
       "array([1])"
      ]
     },
     "execution_count": 62,
     "metadata": {},
     "output_type": "execute_result"
    }
   ],
   "source": [
    "model.predict_classes(GW_Lup[None,:,:,None]) # 33 Earth mass/Solar mass \n",
    "# 11 - 42 Earth mass/Solar mass  in the paper consistent!"
   ]
  },
  {
   "cell_type": "code",
   "execution_count": null,
   "metadata": {},
   "outputs": [],
   "source": []
  },
  {
   "cell_type": "code",
   "execution_count": 41,
   "metadata": {},
   "outputs": [
    {
     "data": {
      "text/plain": [
       "<matplotlib.image.AxesImage at 0x7f0ce1dd73d0>"
      ]
     },
     "execution_count": 41,
     "metadata": {},
     "output_type": "execute_result"
    },
    {
     "data": {
      "image/png": "[encoded data removed]",
      "text/plain": [
       "<Figure size 432x288 with 1 Axes>"
      ]
     },
     "metadata": {
      "needs_background": "light"
     },
     "output_type": "display_data"
    }
   ],
   "source": [
    "plt.imshow(x[10])"
   ]
  },
  {
   "cell_type": "code",
   "execution_count": 42,
   "metadata": {},
   "outputs": [
    {
     "name": "stdout",
     "output_type": "stream",
     "text": [
      "[0]\n",
      "0\n"
     ]
    }
   ],
   "source": [
    "print (model.predict_classes(x[10].reshape(1, 64, 64, 1)))\n",
    "print (y[10])"
   ]
  },
  {
   "cell_type": "code",
   "execution_count": null,
   "metadata": {},
   "outputs": [],
   "source": [
    "n, npix, _ = X.shape\n",
    "nfolds = 5\n",
    "nepochs = 10\n",
    "accuracies = np.zeros((2, nfolds, nepochs))\n",
    "# train/test \n",
    "test_size =  n//nfolds\n",
    "\n",
    "for i in range(nfolds):\n",
    "    \n",
    "    extra_size = 0\n",
    "    if (i == nfolds-1):\n",
    "        extra_size =  n % test_size  # extra size than test_size \n",
    "\n",
    "    x_train = \n",
    "    x_test     = np.array(X.iloc[test_size*i:test_size*(i+1)+extra_size,:]).reshape(-1, 28, 28).astype(dtype = np.float32)\n",
    "\n",
    "    y_train = np.concatenate((y[:test_size*i], y[test_size*(i+1)+extra_size:])).astype(dtype = np.float32)\n",
    "    y_test     = np.array(y[test_size*i: test_size*(i+1)+extra_size]).astype(dtype = np.float32)\n",
    "\n",
    "    # normalize to 0 to 1\n",
    "    x_train, x_test = x_train / 255.0, x_test / 255.0\n",
    "\n",
    "    # following the tutorial in https://www.tensorflow.org/tutorials\n",
    "    # The first layer is the input 28x28 image data, flattened to 1D array\n",
    "    # i.e., we have obfuscated spatial relationships within the data (CNN can do this)\n",
    "    # The second layer has 128 nodes with RELU as activation function\n",
    "    # To cope with overfitting, we add 20% dropout rate\n",
    "    # The last layer is the output layer with 10 nodes (numerals 0 to 9)\n",
    "\n",
    "    model = tf.keras.models.Sequential([\n",
    "          tf.keras.layers.Conv2D(4, (3, 3), activation='relu', input_shape=( 28, 28, 1)),\n",
    "          tf.keras.layers.Conv2D(16, (3, 3), activation='relu'),\n",
    "          tf.keras.layers.MaxPooling2D((2, 2)),\n",
    "          tf.keras.layers.Flatten(),\n",
    "          tf.keras.layers.Dense(128, activation='relu'),\n",
    "          tf.keras.layers.Dropout(0.2),\n",
    "          tf.keras.layers.Dense(10)\n",
    "        ])\n",
    "    \n",
    "    # Use SparseCategoricalCrossentropy as the loss function\n",
    "    # It assumes labels are categorical\n",
    "    # so we don't need to convert the labels to one-hot labels\n",
    "    loss_fn = tf.keras.losses.SparseCategoricalCrossentropy(from_logits=True)\n",
    "    \n",
    "    # optimizer Adam optimization is a stochastic gradient descent method that is based on\n",
    "    #  adaptive estimation of first-order and second-order moments\n",
    "    model.compile(optimizer='adam',\n",
    "                  loss=loss_fn,\n",
    "                  metrics=['accuracy'])\n",
    "    for j in range(nepochs):\n",
    "\n",
    "\n",
    "        history = model.fit(x_train[:,:,:,None], y_train, epochs=1)\n",
    "        accuracy_training = history.history['accuracy'][0]\n",
    "        loss, accuracy_test = model.evaluate(x_test[:,:,:,None],  y_test, verbose=2)\n",
    "        \n",
    "        accuracies[0][i][j] = accuracy_training\n",
    "        accuracies[1][i][j] = accuracy_test\n",
    "    "
   ]
  }
 ],
 "metadata": {
  "kernelspec": {
   "display_name": "Python 3",
   "language": "python",
   "name": "python3"
  },
  "language_info": {
   "codemirror_mode": {
    "name": "ipython",
    "version": 3
   },
   "file_extension": ".py",
   "mimetype": "text/x-python",
   "name": "python",
   "nbconvert_exporter": "python",
   "pygments_lexer": "ipython3",
   "version": "3.7.6"
  }
 },
 "nbformat": 4,
 "nbformat_minor": 4
}
